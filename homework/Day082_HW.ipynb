{
  "nbformat": 4,
  "nbformat_minor": 0,
  "metadata": {
    "kernelspec": {
      "name": "python3",
      "display_name": "Python 3"
    },
    "language_info": {
      "codemirror_mode": {
        "name": "ipython",
        "version": 3
      },
      "file_extension": ".py",
      "mimetype": "text/x-python",
      "name": "python",
      "nbconvert_exporter": "python",
      "pygments_lexer": "ipython3",
      "version": "3.6.5"
    },
    "colab": {
      "name": "Day082_HW.ipynb",
      "version": "0.3.2",
      "provenance": []
    },
    "accelerator": "GPU"
  },
  "cells": [
    {
      "cell_type": "markdown",
      "metadata": {
        "id": "hMOugfVyHHIt",
        "colab_type": "text"
      },
      "source": [
        "## Work\n",
        "1. 請比較使用不同層數以及不同 Dropout rate 對訓練的效果\n",
        "2. 將 optimizer 改成使用 Adam 並加上適當的 dropout rate 檢視結果"
      ]
    },
    {
      "cell_type": "code",
      "metadata": {
        "id": "AjyAHhR-HHIy",
        "colab_type": "code",
        "colab": {
          "base_uri": "https://localhost:8080/",
          "height": 34
        },
        "outputId": "caf0edc9-2afb-4291-ce1e-699e058b91ac"
      },
      "source": [
        "import os\n",
        "import keras\n",
        "import itertools\n",
        "# Disable GPU\n",
        "os.environ[\"CUDA_VISIBLE_DEVICES\"] = \"0\""
      ],
      "execution_count": 1,
      "outputs": [
        {
          "output_type": "stream",
          "text": [
            "Using TensorFlow backend.\n"
          ],
          "name": "stderr"
        }
      ]
    },
    {
      "cell_type": "code",
      "metadata": {
        "id": "QHPhUYrVHHI5",
        "colab_type": "code",
        "colab": {
          "base_uri": "https://localhost:8080/",
          "height": 51
        },
        "outputId": "15aa8169-f7a2-4814-b0f3-c8433d285b83"
      },
      "source": [
        "train, test = keras.datasets.cifar10.load_data()"
      ],
      "execution_count": 2,
      "outputs": [
        {
          "output_type": "stream",
          "text": [
            "Downloading data from https://www.cs.toronto.edu/~kriz/cifar-10-python.tar.gz\n",
            "170500096/170498071 [==============================] - 6s 0us/step\n"
          ],
          "name": "stdout"
        }
      ]
    },
    {
      "cell_type": "code",
      "metadata": {
        "id": "9gP4j-feHHI_",
        "colab_type": "code",
        "colab": {}
      },
      "source": [
        "## 資料前處理\n",
        "def preproc_x(x, flatten=True):\n",
        "    x = x / 255.\n",
        "    if flatten:\n",
        "        x = x.reshape((len(x), -1))\n",
        "    return x\n",
        "\n",
        "def preproc_y(y, num_classes=10):\n",
        "    if y.shape[-1] == 1:\n",
        "        y = keras.utils.to_categorical(y, num_classes)\n",
        "    return y    "
      ],
      "execution_count": 0,
      "outputs": []
    },
    {
      "cell_type": "code",
      "metadata": {
        "id": "GuipN9N6HHJD",
        "colab_type": "code",
        "colab": {}
      },
      "source": [
        "x_train, y_train = train\n",
        "x_test, y_test = test\n",
        "\n",
        "# Preproc the inputs\n",
        "x_train = preproc_x(x_train)\n",
        "x_test = preproc_x(x_test)\n",
        "\n",
        "# Preprc the outputs\n",
        "y_train = preproc_y(y_train)\n",
        "y_test = preproc_y(y_test)"
      ],
      "execution_count": 0,
      "outputs": []
    },
    {
      "cell_type": "code",
      "metadata": {
        "id": "_uMlWxocHHJI",
        "colab_type": "code",
        "colab": {}
      },
      "source": [
        "from keras.layers import Dropout\n",
        "def build_mlp(input_shape, output_units=10, num_neurons=[512, 256, 128, 64, 32], drp_ratio=0.4):\n",
        "    input_layer = keras.layers.Input(input_shape)\n",
        "    \n",
        "    for i, n_units in enumerate(num_neurons):\n",
        "        if i == 0:\n",
        "            x = keras.layers.Dense(units=n_units, \n",
        "                                   activation=\"relu\", \n",
        "                                   name=\"hidden_layer\"+str(i+1))(input_layer)\n",
        "            x = Dropout(drp_ratio)(x)\n",
        "        else:\n",
        "            x = keras.layers.Dense(units=n_units, \n",
        "                                   activation=\"relu\", \n",
        "                                   name=\"hidden_layer\"+str(i+1))(x)\n",
        "            x = Dropout(drp_ratio)(x)\n",
        "    \n",
        "    out = keras.layers.Dense(units=output_units, activation=\"softmax\", name=\"output\")(x)\n",
        "    \n",
        "    model = keras.models.Model(inputs=[input_layer], outputs=[out])\n",
        "    return model"
      ],
      "execution_count": 0,
      "outputs": []
    },
    {
      "cell_type": "code",
      "metadata": {
        "id": "MM45_rtcHHJM",
        "colab_type": "code",
        "colab": {}
      },
      "source": [
        "\"\"\"Code Here\n",
        "設定超參數\n",
        "\"\"\"\n",
        "LEARNING_RATE = 1e-3\n",
        "EPOCHS = 50\n",
        "BATCH_SIZE = 256\n",
        "MOMENTUM = 0.95\n",
        "Dropout_EXP =  0.4"
      ],
      "execution_count": 0,
      "outputs": []
    },
    {
      "cell_type": "code",
      "metadata": {
        "scrolled": true,
        "id": "yMJ1mbrFHHJR",
        "colab_type": "code",
        "colab": {
          "base_uri": "https://localhost:8080/",
          "height": 1000
        },
        "outputId": "d2285ed9-49ad-41a4-df99-50d949c09961"
      },
      "source": [
        "\n",
        "model = build_mlp(input_shape=x_train.shape[1:], drp_ratio=Dropout_EXP)\n",
        "model.summary()\n",
        "optimizer = keras.optimizers.SGD(lr=LEARNING_RATE, nesterov=True, momentum=MOMENTUM)\n",
        "model.compile(loss=\"categorical_crossentropy\", metrics=[\"accuracy\"], optimizer=optimizer)\n",
        "\n",
        "model.fit(x_train, y_train, \n",
        "          epochs=EPOCHS, \n",
        "          batch_size=BATCH_SIZE, \n",
        "          validation_data=(x_test, y_test), \n",
        "          shuffle=True)\n",
        "\n",
        "# Collect results\n",
        "train_loss = model.history.history[\"loss\"]\n",
        "valid_loss = model.history.history[\"val_loss\"]\n",
        "train_acc = model.history.history[\"acc\"]\n",
        "valid_acc = model.history.history[\"val_acc\"]\n",
        "\n",
        "\"\"\"Code Here\n",
        "撰寫你的訓練流程並將結果用 dictionary 紀錄\n",
        "\"\"\""
      ],
      "execution_count": 22,
      "outputs": [
        {
          "output_type": "stream",
          "text": [
            "_________________________________________________________________\n",
            "Layer (type)                 Output Shape              Param #   \n",
            "=================================================================\n",
            "input_4 (InputLayer)         (None, 3072)              0         \n",
            "_________________________________________________________________\n",
            "hidden_layer1 (Dense)        (None, 512)               1573376   \n",
            "_________________________________________________________________\n",
            "dropout_7 (Dropout)          (None, 512)               0         \n",
            "_________________________________________________________________\n",
            "hidden_layer2 (Dense)        (None, 256)               131328    \n",
            "_________________________________________________________________\n",
            "dropout_8 (Dropout)          (None, 256)               0         \n",
            "_________________________________________________________________\n",
            "hidden_layer3 (Dense)        (None, 128)               32896     \n",
            "_________________________________________________________________\n",
            "dropout_9 (Dropout)          (None, 128)               0         \n",
            "_________________________________________________________________\n",
            "hidden_layer4 (Dense)        (None, 64)                8256      \n",
            "_________________________________________________________________\n",
            "dropout_10 (Dropout)         (None, 64)                0         \n",
            "_________________________________________________________________\n",
            "hidden_layer5 (Dense)        (None, 32)                2080      \n",
            "_________________________________________________________________\n",
            "dropout_11 (Dropout)         (None, 32)                0         \n",
            "_________________________________________________________________\n",
            "output (Dense)               (None, 10)                330       \n",
            "=================================================================\n",
            "Total params: 1,748,266\n",
            "Trainable params: 1,748,266\n",
            "Non-trainable params: 0\n",
            "_________________________________________________________________\n",
            "Train on 50000 samples, validate on 10000 samples\n",
            "Epoch 1/50\n",
            "50000/50000 [==============================] - 3s 68us/step - loss: 2.3261 - acc: 0.1053 - val_loss: 2.2948 - val_acc: 0.1432\n",
            "Epoch 2/50\n",
            "50000/50000 [==============================] - 3s 60us/step - loss: 2.2921 - acc: 0.1201 - val_loss: 2.2672 - val_acc: 0.1574\n",
            "Epoch 3/50\n",
            "50000/50000 [==============================] - 3s 60us/step - loss: 2.2617 - acc: 0.1357 - val_loss: 2.2066 - val_acc: 0.1579\n",
            "Epoch 4/50\n",
            "50000/50000 [==============================] - 3s 59us/step - loss: 2.2197 - acc: 0.1550 - val_loss: 2.1543 - val_acc: 0.1710\n",
            "Epoch 5/50\n",
            "50000/50000 [==============================] - 3s 61us/step - loss: 2.1831 - acc: 0.1647 - val_loss: 2.1105 - val_acc: 0.1750\n",
            "Epoch 6/50\n",
            "50000/50000 [==============================] - 3s 59us/step - loss: 2.1544 - acc: 0.1709 - val_loss: 2.0817 - val_acc: 0.1891\n",
            "Epoch 7/50\n",
            "50000/50000 [==============================] - 3s 59us/step - loss: 2.1312 - acc: 0.1714 - val_loss: 2.0603 - val_acc: 0.1930\n",
            "Epoch 8/50\n",
            "50000/50000 [==============================] - 3s 59us/step - loss: 2.1147 - acc: 0.1761 - val_loss: 2.0394 - val_acc: 0.2032\n",
            "Epoch 9/50\n",
            "50000/50000 [==============================] - 3s 59us/step - loss: 2.1005 - acc: 0.1819 - val_loss: 2.0366 - val_acc: 0.2058\n",
            "Epoch 10/50\n",
            "50000/50000 [==============================] - 3s 60us/step - loss: 2.0813 - acc: 0.1846 - val_loss: 2.0072 - val_acc: 0.2109\n",
            "Epoch 11/50\n",
            "50000/50000 [==============================] - 3s 59us/step - loss: 2.0662 - acc: 0.1919 - val_loss: 1.9884 - val_acc: 0.2259\n",
            "Epoch 12/50\n",
            "50000/50000 [==============================] - 3s 60us/step - loss: 2.0540 - acc: 0.1962 - val_loss: 1.9724 - val_acc: 0.2538\n",
            "Epoch 13/50\n",
            "50000/50000 [==============================] - 3s 59us/step - loss: 2.0412 - acc: 0.2012 - val_loss: 1.9485 - val_acc: 0.2684\n",
            "Epoch 14/50\n",
            "50000/50000 [==============================] - 3s 59us/step - loss: 2.0278 - acc: 0.2111 - val_loss: 1.9327 - val_acc: 0.2734\n",
            "Epoch 15/50\n",
            "50000/50000 [==============================] - 3s 60us/step - loss: 2.0135 - acc: 0.2192 - val_loss: 1.9222 - val_acc: 0.2803\n",
            "Epoch 16/50\n",
            "50000/50000 [==============================] - 3s 59us/step - loss: 2.0016 - acc: 0.2253 - val_loss: 1.9026 - val_acc: 0.2814\n",
            "Epoch 17/50\n",
            "50000/50000 [==============================] - 3s 59us/step - loss: 1.9852 - acc: 0.2349 - val_loss: 1.8854 - val_acc: 0.2841\n",
            "Epoch 18/50\n",
            "50000/50000 [==============================] - 3s 60us/step - loss: 1.9747 - acc: 0.2383 - val_loss: 1.8717 - val_acc: 0.2948\n",
            "Epoch 19/50\n",
            "50000/50000 [==============================] - 3s 60us/step - loss: 1.9612 - acc: 0.2464 - val_loss: 1.8582 - val_acc: 0.2979\n",
            "Epoch 20/50\n",
            "50000/50000 [==============================] - 3s 60us/step - loss: 1.9569 - acc: 0.2459 - val_loss: 1.8548 - val_acc: 0.3082\n",
            "Epoch 21/50\n",
            "50000/50000 [==============================] - 3s 59us/step - loss: 1.9395 - acc: 0.2541 - val_loss: 1.8287 - val_acc: 0.3053\n",
            "Epoch 22/50\n",
            "50000/50000 [==============================] - 3s 60us/step - loss: 1.9352 - acc: 0.2582 - val_loss: 1.8269 - val_acc: 0.3106\n",
            "Epoch 23/50\n",
            "50000/50000 [==============================] - 3s 59us/step - loss: 1.9227 - acc: 0.2559 - val_loss: 1.8078 - val_acc: 0.3129\n",
            "Epoch 24/50\n",
            "50000/50000 [==============================] - 3s 59us/step - loss: 1.9161 - acc: 0.2667 - val_loss: 1.8116 - val_acc: 0.3133\n",
            "Epoch 25/50\n",
            "50000/50000 [==============================] - 3s 59us/step - loss: 1.9079 - acc: 0.2675 - val_loss: 1.7943 - val_acc: 0.3219\n",
            "Epoch 26/50\n",
            "50000/50000 [==============================] - 3s 60us/step - loss: 1.8985 - acc: 0.2729 - val_loss: 1.7930 - val_acc: 0.3189\n",
            "Epoch 27/50\n",
            "50000/50000 [==============================] - 3s 59us/step - loss: 1.8965 - acc: 0.2744 - val_loss: 1.7909 - val_acc: 0.3181\n",
            "Epoch 28/50\n",
            "50000/50000 [==============================] - 3s 59us/step - loss: 1.8833 - acc: 0.2818 - val_loss: 1.7775 - val_acc: 0.3241\n",
            "Epoch 29/50\n",
            "50000/50000 [==============================] - 3s 59us/step - loss: 1.8749 - acc: 0.2841 - val_loss: 1.7580 - val_acc: 0.3311\n",
            "Epoch 30/50\n",
            "50000/50000 [==============================] - 3s 59us/step - loss: 1.8729 - acc: 0.2875 - val_loss: 1.7634 - val_acc: 0.3291\n",
            "Epoch 31/50\n",
            "50000/50000 [==============================] - 3s 58us/step - loss: 1.8627 - acc: 0.2888 - val_loss: 1.7502 - val_acc: 0.3352\n",
            "Epoch 32/50\n",
            "50000/50000 [==============================] - 3s 59us/step - loss: 1.8599 - acc: 0.2921 - val_loss: 1.7510 - val_acc: 0.3388\n",
            "Epoch 33/50\n",
            "50000/50000 [==============================] - 3s 59us/step - loss: 1.8548 - acc: 0.2948 - val_loss: 1.7471 - val_acc: 0.3344\n",
            "Epoch 34/50\n",
            "50000/50000 [==============================] - 3s 60us/step - loss: 1.8507 - acc: 0.2948 - val_loss: 1.7356 - val_acc: 0.3502\n",
            "Epoch 35/50\n",
            "50000/50000 [==============================] - 3s 60us/step - loss: 1.8429 - acc: 0.2973 - val_loss: 1.7407 - val_acc: 0.3457\n",
            "Epoch 36/50\n",
            "50000/50000 [==============================] - 3s 60us/step - loss: 1.8357 - acc: 0.3012 - val_loss: 1.7285 - val_acc: 0.3598\n",
            "Epoch 37/50\n",
            "50000/50000 [==============================] - 3s 60us/step - loss: 1.8277 - acc: 0.3055 - val_loss: 1.7310 - val_acc: 0.3475\n",
            "Epoch 38/50\n",
            "50000/50000 [==============================] - 3s 60us/step - loss: 1.8289 - acc: 0.3022 - val_loss: 1.7177 - val_acc: 0.3583\n",
            "Epoch 39/50\n",
            "50000/50000 [==============================] - 3s 59us/step - loss: 1.8239 - acc: 0.3084 - val_loss: 1.7081 - val_acc: 0.3660\n",
            "Epoch 40/50\n",
            "50000/50000 [==============================] - 3s 60us/step - loss: 1.8194 - acc: 0.3106 - val_loss: 1.7164 - val_acc: 0.3668\n",
            "Epoch 41/50\n",
            "50000/50000 [==============================] - 3s 60us/step - loss: 1.8214 - acc: 0.3111 - val_loss: 1.7066 - val_acc: 0.3720\n",
            "Epoch 42/50\n",
            "50000/50000 [==============================] - 3s 59us/step - loss: 1.8099 - acc: 0.3181 - val_loss: 1.7074 - val_acc: 0.3688\n",
            "Epoch 43/50\n",
            "50000/50000 [==============================] - 3s 60us/step - loss: 1.8074 - acc: 0.3133 - val_loss: 1.6898 - val_acc: 0.3729\n",
            "Epoch 44/50\n",
            "50000/50000 [==============================] - 3s 59us/step - loss: 1.8020 - acc: 0.3182 - val_loss: 1.6908 - val_acc: 0.3782\n",
            "Epoch 45/50\n",
            "50000/50000 [==============================] - 3s 60us/step - loss: 1.7896 - acc: 0.3238 - val_loss: 1.6959 - val_acc: 0.3720\n",
            "Epoch 46/50\n",
            "50000/50000 [==============================] - 3s 59us/step - loss: 1.7959 - acc: 0.3241 - val_loss: 1.6814 - val_acc: 0.3755\n",
            "Epoch 47/50\n",
            "50000/50000 [==============================] - 3s 60us/step - loss: 1.7830 - acc: 0.3283 - val_loss: 1.6777 - val_acc: 0.3846\n",
            "Epoch 48/50\n",
            "50000/50000 [==============================] - 3s 59us/step - loss: 1.7821 - acc: 0.3290 - val_loss: 1.6663 - val_acc: 0.3899\n",
            "Epoch 49/50\n",
            "50000/50000 [==============================] - 3s 59us/step - loss: 1.7784 - acc: 0.3336 - val_loss: 1.6615 - val_acc: 0.3850\n",
            "Epoch 50/50\n",
            "50000/50000 [==============================] - 3s 60us/step - loss: 1.7723 - acc: 0.3318 - val_loss: 1.6668 - val_acc: 0.3905\n"
          ],
          "name": "stdout"
        },
        {
          "output_type": "execute_result",
          "data": {
            "text/plain": [
              "'Code Here\\n撰寫你的訓練流程並將結果用 dictionary 紀錄\\n'"
            ]
          },
          "metadata": {
            "tags": []
          },
          "execution_count": 22
        }
      ]
    },
    {
      "cell_type": "code",
      "metadata": {
        "id": "Nh8rQGqLHHJV",
        "colab_type": "code",
        "colab": {
          "base_uri": "https://localhost:8080/",
          "height": 545
        },
        "outputId": "89aac370-1818-4ed0-f568-3237ff34c009"
      },
      "source": [
        "import matplotlib.pyplot as plt\n",
        "%matplotlib inline\n",
        "\n",
        "plt.plot(range(len(train_loss)), train_loss, label=\"train loss\")\n",
        "plt.plot(range(len(valid_loss)), valid_loss, label=\"valid loss\")\n",
        "plt.legend()\n",
        "plt.title(\"Loss\")\n",
        "plt.show()\n",
        "\n",
        "plt.plot(range(len(train_acc)), train_acc, label=\"train accuracy\")\n",
        "plt.plot(range(len(valid_acc)), valid_acc, label=\"valid accuracy\")\n",
        "plt.legend()\n",
        "plt.title(\"Accuracy\")\n",
        "plt.show()"
      ],
      "execution_count": 23,
      "outputs": [
        {
          "output_type": "display_data",
          "data": {
            "image/png": "[encoded data removed]",
            "text/plain": [
              "<Figure size 432x288 with 1 Axes>"
            ]
          },
          "metadata": {
            "tags": []
          }
        },
        {
          "output_type": "display_data",
          "data": {
            "image/png": "[encoded data removed]",
            "text/plain": [
              "<Figure size 432x288 with 1 Axes>"
            ]
          },
          "metadata": {
            "tags": []
          }
        }
      ]
    }
  ]
}