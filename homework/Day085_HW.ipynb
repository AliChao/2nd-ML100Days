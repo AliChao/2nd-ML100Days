{
  "nbformat": 4,
  "nbformat_minor": 0,
  "metadata": {
    "kernelspec": {
      "name": "python3",
      "display_name": "Python 3"
    },
    "language_info": {
      "codemirror_mode": {
        "name": "ipython",
        "version": 3
      },
      "file_extension": ".py",
      "mimetype": "text/x-python",
      "name": "python",
      "nbconvert_exporter": "python",
      "pygments_lexer": "ipython3",
      "version": "3.6.5"
    },
    "colab": {
      "name": "Day085_HW.ipynb",
      "version": "0.3.2",
      "provenance": []
    },
    "accelerator": "GPU"
  },
  "cells": [
    {
      "cell_type": "markdown",
      "metadata": {
        "id": "BFTQOWqinsGf",
        "colab_type": "text"
      },
      "source": [
        "## Work\n",
        "1. 試改變 monitor \"Validation Accuracy\" 並比較結果\n",
        "2. 調整 earlystop 的等待次數至 10, 25 並比較結果"
      ]
    },
    {
      "cell_type": "code",
      "metadata": {
        "id": "Lb6dj-n4nsGg",
        "colab_type": "code",
        "colab": {}
      },
      "source": [
        "import os\n",
        "import keras\n",
        "import matplotlib.pyplot as plt\n",
        "%matplotlib inline\n",
        "\n",
        "\n",
        "# Disable GPU\n",
        "os.environ[\"CUDA_VISIBLE_DEVICES\"] = \"0\""
      ],
      "execution_count": 0,
      "outputs": []
    },
    {
      "cell_type": "code",
      "metadata": {
        "id": "CZE15h1unsGk",
        "colab_type": "code",
        "colab": {}
      },
      "source": [
        "train, test = keras.datasets.cifar10.load_data()"
      ],
      "execution_count": 0,
      "outputs": []
    },
    {
      "cell_type": "code",
      "metadata": {
        "id": "_VTtnqc1nsGo",
        "colab_type": "code",
        "colab": {}
      },
      "source": [
        "## 資料前處理\n",
        "def preproc_x(x, flatten=True):\n",
        "    x = x / 255.\n",
        "    if flatten:\n",
        "        x = x.reshape((len(x), -1))\n",
        "    return x\n",
        "\n",
        "def preproc_y(y, num_classes=10):\n",
        "    if y.shape[-1] == 1:\n",
        "        y = keras.utils.to_categorical(y, num_classes)\n",
        "    return y    "
      ],
      "execution_count": 0,
      "outputs": []
    },
    {
      "cell_type": "code",
      "metadata": {
        "id": "xUsneOnPnsGr",
        "colab_type": "code",
        "colab": {}
      },
      "source": [
        "x_train, y_train = train\n",
        "x_test, y_test = test\n",
        "\n",
        "# Preproc the inputs\n",
        "x_train = preproc_x(x_train)\n",
        "x_test = preproc_x(x_test)\n",
        "\n",
        "# Preprc the outputs\n",
        "y_train = preproc_y(y_train)\n",
        "y_test = preproc_y(y_test)"
      ],
      "execution_count": 0,
      "outputs": []
    },
    {
      "cell_type": "code",
      "metadata": {
        "id": "4rKcmhsynsGt",
        "colab_type": "code",
        "colab": {}
      },
      "source": [
        "\n",
        "def build_mlp(input_shape, output_units=10, num_neurons=[512, 256, 128]):\n",
        "    input_layer = keras.layers.Input(input_shape)\n",
        "    \n",
        "    for i, n_units in enumerate(num_neurons):\n",
        "        if i == 0:\n",
        "            x = keras.layers.Dense(units=n_units, \n",
        "                                   activation=\"relu\", \n",
        "                                   name=\"hidden_layer\"+str(i+1))(input_layer)\n",
        "            x = BatchNormalization()(x)\n",
        "        else:\n",
        "            x = keras.layers.Dense(units=n_units, \n",
        "                                   activation=\"relu\", \n",
        "                                   name=\"hidden_layer\"+str(i+1))(x)\n",
        "            x = BatchNormalization()(x)\n",
        "    \n",
        "    out = keras.layers.Dense(units=output_units, activation=\"softmax\", name=\"output\")(x)\n",
        "    \n",
        "    model = keras.models.Model(inputs=[input_layer], outputs=[out])\n",
        "    return model\n"
      ],
      "execution_count": 0,
      "outputs": []
    },
    {
      "cell_type": "code",
      "metadata": {
        "id": "ALsxqSBxnsGw",
        "colab_type": "code",
        "colab": {}
      },
      "source": [
        "\"\"\"Code Here\n",
        "設定超參數\n",
        "\"\"\"\n",
        "LEARNING_RATE = 1e-3\n",
        "EPOCHS = 50\n",
        "BATCH_SIZE = 1024\n",
        "MOMENTUM = 0.95\n",
        "earlystop = [10,25]"
      ],
      "execution_count": 0,
      "outputs": []
    },
    {
      "cell_type": "code",
      "metadata": {
        "id": "b22Ccc_NnsGy",
        "colab_type": "code",
        "colab": {
          "base_uri": "https://localhost:8080/",
          "height": 1000
        },
        "outputId": "2a99eebf-58ed-4cfa-cc3c-24b6926ea06f"
      },
      "source": [
        "# 載入 Callbacks\n",
        "\"\"\"Code Here\n",
        "設定 callbacks: Earlystop\n",
        "\"\"\"\n",
        "\n",
        "results = {}\n",
        "from keras.callbacks import EarlyStopping\n",
        "from keras.layers import BatchNormalization\n",
        "\n",
        "for es in earlystop:\n",
        "  keras.backend.clear_session() # 把舊的 Graph 清掉\n",
        "  print(\"Experiment with earlystop = %.6f\" % (es))\n",
        "  earlystop = EarlyStopping(monitor=\"val_loss\", \n",
        "                            patience=es, \n",
        "                            verbose=1\n",
        "                            )\n",
        "\n",
        "  model = build_mlp(input_shape=x_train.shape[1:])\n",
        "  model.summary()\n",
        "  optimizer = keras.optimizers.SGD(lr=LEARNING_RATE, nesterov=True, momentum=MOMENTUM)\n",
        "  model.compile(loss=\"categorical_crossentropy\", metrics=[\"accuracy\"], optimizer=optimizer)\n",
        "\n",
        "  model.fit(x_train, y_train, \n",
        "            epochs=EPOCHS, \n",
        "            batch_size=BATCH_SIZE, \n",
        "            validation_data=(x_test, y_test), \n",
        "            shuffle=True,\n",
        "            callbacks=[earlystop]\n",
        "           )\n",
        "\n",
        "  # Collect results\n",
        "  train_loss = model.history.history[\"loss\"]\n",
        "  valid_loss = model.history.history[\"val_loss\"]\n",
        "  train_acc = model.history.history[\"acc\"]\n",
        "  valid_acc = model.history.history[\"val_acc\"]\n",
        "  exp_name_tag = \"exp-%s\" % str(es)\n",
        "  results[exp_name_tag] = {'train-loss': train_loss,\n",
        "                           'valid-loss': valid_loss,\n",
        "                           'train-acc': train_acc,\n",
        "                           'valid-acc': valid_acc}\n",
        "\"\"\"Code Here\n",
        "撰寫你的訓練流程並將結果用 dictionary 紀錄\n",
        "\"\"\""
      ],
      "execution_count": 16,
      "outputs": [
        {
          "output_type": "stream",
          "text": [
            "Experiment with earlystop = 10.000000\n"
          ],
          "name": "stdout"
        },
        {
          "output_type": "stream",
          "text": [
            "W0811 03:29:36.363632 139932182271872 deprecation_wrapper.py:119] From /usr/local/lib/python3.6/dist-packages/keras/optimizers.py:790: The name tf.train.Optimizer is deprecated. Please use tf.compat.v1.train.Optimizer instead.\n",
            "\n",
            "W0811 03:29:36.506055 139932182271872 deprecation.py:323] From /usr/local/lib/python3.6/dist-packages/tensorflow/python/ops/math_grad.py:1250: add_dispatch_support.<locals>.wrapper (from tensorflow.python.ops.array_ops) is deprecated and will be removed in a future version.\n",
            "Instructions for updating:\n",
            "Use tf.where in 2.0, which has the same broadcast rule as np.where\n"
          ],
          "name": "stderr"
        },
        {
          "output_type": "stream",
          "text": [
            "_________________________________________________________________\n",
            "Layer (type)                 Output Shape              Param #   \n",
            "=================================================================\n",
            "input_1 (InputLayer)         (None, 3072)              0         \n",
            "_________________________________________________________________\n",
            "hidden_layer1 (Dense)        (None, 512)               1573376   \n",
            "_________________________________________________________________\n",
            "batch_normalization_1 (Batch (None, 512)               2048      \n",
            "_________________________________________________________________\n",
            "hidden_layer2 (Dense)        (None, 256)               131328    \n",
            "_________________________________________________________________\n",
            "batch_normalization_2 (Batch (None, 256)               1024      \n",
            "_________________________________________________________________\n",
            "hidden_layer3 (Dense)        (None, 128)               32896     \n",
            "_________________________________________________________________\n",
            "batch_normalization_3 (Batch (None, 128)               512       \n",
            "_________________________________________________________________\n",
            "output (Dense)               (None, 10)                1290      \n",
            "=================================================================\n",
            "Total params: 1,742,474\n",
            "Trainable params: 1,740,682\n",
            "Non-trainable params: 1,792\n",
            "_________________________________________________________________\n",
            "Train on 50000 samples, validate on 10000 samples\n",
            "Epoch 1/50\n",
            "50000/50000 [==============================] - 6s 122us/step - loss: 2.2144 - acc: 0.2682 - val_loss: 2.1346 - val_acc: 0.3168\n",
            "Epoch 2/50\n",
            "50000/50000 [==============================] - 2s 38us/step - loss: 1.7479 - acc: 0.3923 - val_loss: 1.8342 - val_acc: 0.3670\n",
            "Epoch 3/50\n",
            "50000/50000 [==============================] - 2s 39us/step - loss: 1.6232 - acc: 0.4338 - val_loss: 1.7361 - val_acc: 0.3955\n",
            "Epoch 4/50\n",
            "50000/50000 [==============================] - 2s 40us/step - loss: 1.5476 - acc: 0.4599 - val_loss: 1.6469 - val_acc: 0.4220\n",
            "Epoch 5/50\n",
            "50000/50000 [==============================] - 2s 39us/step - loss: 1.4924 - acc: 0.4787 - val_loss: 1.5998 - val_acc: 0.4401\n",
            "Epoch 6/50\n",
            "50000/50000 [==============================] - 2s 39us/step - loss: 1.4449 - acc: 0.4963 - val_loss: 1.5722 - val_acc: 0.4501\n",
            "Epoch 7/50\n",
            "50000/50000 [==============================] - 2s 39us/step - loss: 1.4048 - acc: 0.5102 - val_loss: 1.5462 - val_acc: 0.4545\n",
            "Epoch 8/50\n",
            "50000/50000 [==============================] - 2s 39us/step - loss: 1.3671 - acc: 0.5246 - val_loss: 1.5364 - val_acc: 0.4592\n",
            "Epoch 9/50\n",
            "50000/50000 [==============================] - 2s 39us/step - loss: 1.3344 - acc: 0.5353 - val_loss: 1.5164 - val_acc: 0.4598\n",
            "Epoch 10/50\n",
            "50000/50000 [==============================] - 2s 38us/step - loss: 1.3041 - acc: 0.5469 - val_loss: 1.5043 - val_acc: 0.4648\n",
            "Epoch 11/50\n",
            "50000/50000 [==============================] - 2s 38us/step - loss: 1.2755 - acc: 0.5572 - val_loss: 1.5027 - val_acc: 0.4708\n",
            "Epoch 12/50\n",
            "50000/50000 [==============================] - 2s 38us/step - loss: 1.2479 - acc: 0.5674 - val_loss: 1.4944 - val_acc: 0.4743\n",
            "Epoch 13/50\n",
            "50000/50000 [==============================] - 2s 38us/step - loss: 1.2206 - acc: 0.5781 - val_loss: 1.4839 - val_acc: 0.4756\n",
            "Epoch 14/50\n",
            "50000/50000 [==============================] - 2s 38us/step - loss: 1.1954 - acc: 0.5853 - val_loss: 1.4824 - val_acc: 0.4759\n",
            "Epoch 15/50\n",
            "50000/50000 [==============================] - 2s 38us/step - loss: 1.1712 - acc: 0.5979 - val_loss: 1.4751 - val_acc: 0.4768\n",
            "Epoch 16/50\n",
            "50000/50000 [==============================] - 2s 38us/step - loss: 1.1466 - acc: 0.6048 - val_loss: 1.4731 - val_acc: 0.4796\n",
            "Epoch 17/50\n",
            "50000/50000 [==============================] - 2s 39us/step - loss: 1.1237 - acc: 0.6130 - val_loss: 1.4625 - val_acc: 0.4865\n",
            "Epoch 18/50\n",
            "50000/50000 [==============================] - 2s 38us/step - loss: 1.0993 - acc: 0.6229 - val_loss: 1.4623 - val_acc: 0.4848\n",
            "Epoch 19/50\n",
            "50000/50000 [==============================] - 2s 38us/step - loss: 1.0768 - acc: 0.6318 - val_loss: 1.4830 - val_acc: 0.4829\n",
            "Epoch 20/50\n",
            "50000/50000 [==============================] - 2s 38us/step - loss: 1.0550 - acc: 0.6398 - val_loss: 1.4608 - val_acc: 0.4878\n",
            "Epoch 21/50\n",
            "50000/50000 [==============================] - 2s 38us/step - loss: 1.0304 - acc: 0.6498 - val_loss: 1.4564 - val_acc: 0.4886\n",
            "Epoch 22/50\n",
            "50000/50000 [==============================] - 2s 38us/step - loss: 1.0111 - acc: 0.6587 - val_loss: 1.4635 - val_acc: 0.4866\n",
            "Epoch 23/50\n",
            "50000/50000 [==============================] - 2s 39us/step - loss: 0.9892 - acc: 0.6667 - val_loss: 1.4711 - val_acc: 0.4886\n",
            "Epoch 24/50\n",
            "50000/50000 [==============================] - 2s 38us/step - loss: 0.9706 - acc: 0.6720 - val_loss: 1.4715 - val_acc: 0.4847\n",
            "Epoch 25/50\n",
            "50000/50000 [==============================] - 2s 38us/step - loss: 0.9462 - acc: 0.6836 - val_loss: 1.4697 - val_acc: 0.4915\n",
            "Epoch 26/50\n",
            "50000/50000 [==============================] - 2s 38us/step - loss: 0.9267 - acc: 0.6900 - val_loss: 1.4748 - val_acc: 0.4871\n",
            "Epoch 27/50\n",
            "50000/50000 [==============================] - 2s 38us/step - loss: 0.9038 - acc: 0.6996 - val_loss: 1.4804 - val_acc: 0.4913\n",
            "Epoch 28/50\n",
            "50000/50000 [==============================] - 2s 38us/step - loss: 0.8847 - acc: 0.7067 - val_loss: 1.4908 - val_acc: 0.4906\n",
            "Epoch 29/50\n",
            "50000/50000 [==============================] - 2s 38us/step - loss: 0.8638 - acc: 0.7160 - val_loss: 1.4931 - val_acc: 0.4903\n",
            "Epoch 30/50\n",
            "50000/50000 [==============================] - 2s 38us/step - loss: 0.8432 - acc: 0.7238 - val_loss: 1.4847 - val_acc: 0.4884\n",
            "Epoch 31/50\n",
            "50000/50000 [==============================] - 2s 38us/step - loss: 0.8251 - acc: 0.7327 - val_loss: 1.5132 - val_acc: 0.4872\n",
            "Epoch 00031: early stopping\n",
            "Experiment with earlystop = 25.000000\n",
            "_________________________________________________________________\n",
            "Layer (type)                 Output Shape              Param #   \n",
            "=================================================================\n",
            "input_1 (InputLayer)         (None, 3072)              0         \n",
            "_________________________________________________________________\n",
            "hidden_layer1 (Dense)        (None, 512)               1573376   \n",
            "_________________________________________________________________\n",
            "batch_normalization_1 (Batch (None, 512)               2048      \n",
            "_________________________________________________________________\n",
            "hidden_layer2 (Dense)        (None, 256)               131328    \n",
            "_________________________________________________________________\n",
            "batch_normalization_2 (Batch (None, 256)               1024      \n",
            "_________________________________________________________________\n",
            "hidden_layer3 (Dense)        (None, 128)               32896     \n",
            "_________________________________________________________________\n",
            "batch_normalization_3 (Batch (None, 128)               512       \n",
            "_________________________________________________________________\n",
            "output (Dense)               (None, 10)                1290      \n",
            "=================================================================\n",
            "Total params: 1,742,474\n",
            "Trainable params: 1,740,682\n",
            "Non-trainable params: 1,792\n",
            "_________________________________________________________________\n",
            "Train on 50000 samples, validate on 10000 samples\n",
            "Epoch 1/50\n",
            "50000/50000 [==============================] - 3s 53us/step - loss: 2.2007 - acc: 0.2751 - val_loss: 2.0619 - val_acc: 0.3216\n",
            "Epoch 2/50\n",
            "50000/50000 [==============================] - 2s 38us/step - loss: 1.7364 - acc: 0.3962 - val_loss: 1.7932 - val_acc: 0.3774\n",
            "Epoch 3/50\n",
            "50000/50000 [==============================] - 2s 38us/step - loss: 1.6117 - acc: 0.4371 - val_loss: 1.7140 - val_acc: 0.4121\n",
            "Epoch 4/50\n",
            "50000/50000 [==============================] - 2s 38us/step - loss: 1.5380 - acc: 0.4615 - val_loss: 1.6059 - val_acc: 0.4372\n",
            "Epoch 5/50\n",
            "50000/50000 [==============================] - 2s 38us/step - loss: 1.4832 - acc: 0.4825 - val_loss: 1.5804 - val_acc: 0.4427\n",
            "Epoch 6/50\n",
            "50000/50000 [==============================] - 2s 38us/step - loss: 1.4392 - acc: 0.4976 - val_loss: 1.5565 - val_acc: 0.4502\n",
            "Epoch 7/50\n",
            "50000/50000 [==============================] - 2s 38us/step - loss: 1.4007 - acc: 0.5113 - val_loss: 1.5262 - val_acc: 0.4597\n",
            "Epoch 8/50\n",
            "50000/50000 [==============================] - 2s 38us/step - loss: 1.3636 - acc: 0.5273 - val_loss: 1.5232 - val_acc: 0.4647\n",
            "Epoch 9/50\n",
            "50000/50000 [==============================] - 2s 38us/step - loss: 1.3337 - acc: 0.5353 - val_loss: 1.4993 - val_acc: 0.4726\n",
            "Epoch 10/50\n",
            "50000/50000 [==============================] - 2s 38us/step - loss: 1.3045 - acc: 0.5473 - val_loss: 1.4932 - val_acc: 0.4771\n",
            "Epoch 11/50\n",
            "50000/50000 [==============================] - 2s 38us/step - loss: 1.2765 - acc: 0.5582 - val_loss: 1.4871 - val_acc: 0.4756\n",
            "Epoch 12/50\n",
            "50000/50000 [==============================] - 2s 38us/step - loss: 1.2483 - acc: 0.5684 - val_loss: 1.4734 - val_acc: 0.4797\n",
            "Epoch 13/50\n",
            "50000/50000 [==============================] - 2s 38us/step - loss: 1.2227 - acc: 0.5783 - val_loss: 1.4705 - val_acc: 0.4828\n",
            "Epoch 14/50\n",
            "50000/50000 [==============================] - 2s 38us/step - loss: 1.1994 - acc: 0.5866 - val_loss: 1.4621 - val_acc: 0.4824\n",
            "Epoch 15/50\n",
            "50000/50000 [==============================] - 2s 38us/step - loss: 1.1765 - acc: 0.5950 - val_loss: 1.4554 - val_acc: 0.4882\n",
            "Epoch 16/50\n",
            "50000/50000 [==============================] - 2s 38us/step - loss: 1.1516 - acc: 0.6072 - val_loss: 1.4640 - val_acc: 0.4827\n",
            "Epoch 17/50\n",
            "50000/50000 [==============================] - 2s 38us/step - loss: 1.1305 - acc: 0.6127 - val_loss: 1.4497 - val_acc: 0.4927\n",
            "Epoch 18/50\n",
            "50000/50000 [==============================] - 2s 38us/step - loss: 1.1070 - acc: 0.6224 - val_loss: 1.4503 - val_acc: 0.4886\n",
            "Epoch 19/50\n",
            "50000/50000 [==============================] - 2s 38us/step - loss: 1.0849 - acc: 0.6312 - val_loss: 1.4528 - val_acc: 0.4915\n",
            "Epoch 20/50\n",
            "50000/50000 [==============================] - 2s 38us/step - loss: 1.0624 - acc: 0.6393 - val_loss: 1.4397 - val_acc: 0.4942\n",
            "Epoch 21/50\n",
            "50000/50000 [==============================] - 2s 38us/step - loss: 1.0419 - acc: 0.6471 - val_loss: 1.4604 - val_acc: 0.4958\n",
            "Epoch 22/50\n",
            "50000/50000 [==============================] - 2s 38us/step - loss: 1.0216 - acc: 0.6558 - val_loss: 1.4440 - val_acc: 0.4993\n",
            "Epoch 23/50\n",
            "50000/50000 [==============================] - 2s 38us/step - loss: 1.0007 - acc: 0.6639 - val_loss: 1.4672 - val_acc: 0.4922\n",
            "Epoch 24/50\n",
            "50000/50000 [==============================] - 2s 38us/step - loss: 0.9813 - acc: 0.6710 - val_loss: 1.4493 - val_acc: 0.4974\n",
            "Epoch 25/50\n",
            "50000/50000 [==============================] - 2s 38us/step - loss: 0.9613 - acc: 0.6765 - val_loss: 1.4602 - val_acc: 0.4874\n",
            "Epoch 26/50\n",
            "50000/50000 [==============================] - 2s 38us/step - loss: 0.9398 - acc: 0.6881 - val_loss: 1.4552 - val_acc: 0.4952\n",
            "Epoch 27/50\n",
            "50000/50000 [==============================] - 2s 38us/step - loss: 0.9211 - acc: 0.6943 - val_loss: 1.4700 - val_acc: 0.4941\n",
            "Epoch 28/50\n",
            "50000/50000 [==============================] - 2s 38us/step - loss: 0.9023 - acc: 0.7019 - val_loss: 1.4724 - val_acc: 0.4959\n",
            "Epoch 29/50\n",
            "50000/50000 [==============================] - 2s 38us/step - loss: 0.8805 - acc: 0.7106 - val_loss: 1.4807 - val_acc: 0.4877\n",
            "Epoch 30/50\n",
            "50000/50000 [==============================] - 2s 38us/step - loss: 0.8628 - acc: 0.7167 - val_loss: 1.4793 - val_acc: 0.4999\n",
            "Epoch 31/50\n",
            "50000/50000 [==============================] - 2s 38us/step - loss: 0.8412 - acc: 0.7263 - val_loss: 1.4972 - val_acc: 0.4952\n",
            "Epoch 32/50\n",
            "50000/50000 [==============================] - 2s 38us/step - loss: 0.8242 - acc: 0.7322 - val_loss: 1.4901 - val_acc: 0.4939\n",
            "Epoch 33/50\n",
            "50000/50000 [==============================] - 2s 38us/step - loss: 0.8040 - acc: 0.7408 - val_loss: 1.4920 - val_acc: 0.4951\n",
            "Epoch 34/50\n",
            "50000/50000 [==============================] - 2s 38us/step - loss: 0.7860 - acc: 0.7480 - val_loss: 1.4867 - val_acc: 0.4988\n",
            "Epoch 35/50\n",
            "50000/50000 [==============================] - 2s 38us/step - loss: 0.7660 - acc: 0.7549 - val_loss: 1.5101 - val_acc: 0.4913\n",
            "Epoch 36/50\n",
            "50000/50000 [==============================] - 2s 38us/step - loss: 0.7465 - acc: 0.7640 - val_loss: 1.5097 - val_acc: 0.4951\n",
            "Epoch 37/50\n",
            "50000/50000 [==============================] - 2s 38us/step - loss: 0.7281 - acc: 0.7694 - val_loss: 1.5191 - val_acc: 0.4920\n",
            "Epoch 38/50\n",
            "50000/50000 [==============================] - 2s 38us/step - loss: 0.7098 - acc: 0.7774 - val_loss: 1.5358 - val_acc: 0.4936\n",
            "Epoch 39/50\n",
            "50000/50000 [==============================] - 2s 38us/step - loss: 0.6917 - acc: 0.7849 - val_loss: 1.5494 - val_acc: 0.4943\n",
            "Epoch 40/50\n",
            "50000/50000 [==============================] - 2s 38us/step - loss: 0.6731 - acc: 0.7919 - val_loss: 1.5421 - val_acc: 0.4958\n",
            "Epoch 41/50\n",
            "50000/50000 [==============================] - 2s 38us/step - loss: 0.6554 - acc: 0.7988 - val_loss: 1.5700 - val_acc: 0.4825\n",
            "Epoch 42/50\n",
            "50000/50000 [==============================] - 2s 38us/step - loss: 0.6372 - acc: 0.8063 - val_loss: 1.5893 - val_acc: 0.4934\n",
            "Epoch 43/50\n",
            "50000/50000 [==============================] - 2s 38us/step - loss: 0.6184 - acc: 0.8130 - val_loss: 1.5742 - val_acc: 0.4934\n",
            "Epoch 44/50\n",
            "50000/50000 [==============================] - 2s 38us/step - loss: 0.6000 - acc: 0.8221 - val_loss: 1.6172 - val_acc: 0.4879\n",
            "Epoch 45/50\n",
            "50000/50000 [==============================] - 2s 38us/step - loss: 0.5833 - acc: 0.8278 - val_loss: 1.5920 - val_acc: 0.4947\n",
            "Epoch 00045: early stopping\n"
          ],
          "name": "stdout"
        },
        {
          "output_type": "execute_result",
          "data": {
            "text/plain": [
              "'Code Here\\n撰寫你的訓練流程並將結果用 dictionary 紀錄\\n'"
            ]
          },
          "metadata": {
            "tags": []
          },
          "execution_count": 16
        }
      ]
    },
    {
      "cell_type": "code",
      "metadata": {
        "id": "yjskPl4FrKeg",
        "colab_type": "code",
        "colab": {}
      },
      "source": [
        "results = {}\n"
      ],
      "execution_count": 0,
      "outputs": []
    },
    {
      "cell_type": "code",
      "metadata": {
        "id": "C9vBbhdPnsG1",
        "colab_type": "code",
        "colab": {
          "base_uri": "https://localhost:8080/",
          "height": 763
        },
        "outputId": "ab07f5c0-f200-4255-f63a-815188552a0f"
      },
      "source": [
        "import matplotlib.pyplot as plt\n",
        "%matplotlib inline\n",
        "color_bar = [\"r\", \"g\", \"b\", \"y\", \"m\", \"k\"]\n",
        "\n",
        "plt.figure(figsize=(8,6))\n",
        "for i, cond in enumerate(results.keys()):\n",
        "    plt.plot(range(len(results[cond]['train-loss'])),results[cond]['train-loss'], '-', label=cond, color=color_bar[i])\n",
        "    plt.plot(range(len(results[cond]['valid-loss'])),results[cond]['valid-loss'], '--', label=cond, color=color_bar[i])\n",
        "plt.title(\"Loss\")\n",
        "plt.legend()\n",
        "plt.show()\n",
        "\n",
        "plt.figure(figsize=(8,6))\n",
        "for i, cond in enumerate(results.keys()):\n",
        "    plt.plot(range(len(results[cond]['train-acc'])),results[cond]['train-acc'], '-', label=cond, color=color_bar[i])\n",
        "    plt.plot(range(len(results[cond]['valid-acc'])),results[cond]['valid-acc'], '--', label=cond, color=color_bar[i])\n",
        "plt.title(\"Accuracy\")\n",
        "plt.legend()\n",
        "plt.show()"
      ],
      "execution_count": 18,
      "outputs": [
        {
          "output_type": "display_data",
          "data": {
            "image/png": "[encoded data removed]",
            "text/plain": [
              "<Figure size 576x432 with 1 Axes>"
            ]
          },
          "metadata": {
            "tags": []
          }
        },
        {
          "output_type": "display_data",
          "data": {
            "image/png": "[encoded data removed]",
            "text/plain": [
              "<Figure size 576x432 with 1 Axes>"
            ]
          },
          "metadata": {
            "tags": []
          }
        }
      ]
    }
  ]
}