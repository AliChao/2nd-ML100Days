{
  "nbformat": 4,
  "nbformat_minor": 0,
  "metadata": {
    "kernelspec": {
      "name": "python3",
      "display_name": "Python 3"
    },
    "language_info": {
      "codemirror_mode": {
        "name": "ipython",
        "version": 3
      },
      "file_extension": ".py",
      "mimetype": "text/x-python",
      "name": "python",
      "nbconvert_exporter": "python",
      "pygments_lexer": "ipython3",
      "version": "3.6.5"
    },
    "colab": {
      "name": "Day088_HW.ipynb",
      "version": "0.3.2",
      "provenance": []
    },
    "accelerator": "GPU"
  },
  "cells": [
    {
      "cell_type": "markdown",
      "metadata": {
        "id": "AYtG51U7Fuzv",
        "colab_type": "text"
      },
      "source": [
        "## Work\n",
        "1. 請嘗試寫一個 callback 用來記錄各類別在訓練過程中，對驗證集的 True Positive 與 True Negative"
      ]
    },
    {
      "cell_type": "code",
      "metadata": {
        "id": "Zl6UzilEFuzy",
        "colab_type": "code",
        "colab": {
          "base_uri": "https://localhost:8080/",
          "height": 34
        },
        "outputId": "73866d63-8cd7-4db8-e99c-7c7f14d2cc5d"
      },
      "source": [
        "import os\n",
        "import keras\n",
        "\n",
        "# Disable GPU\n",
        "os.environ[\"CUDA_VISIBLE_DEVICES\"] = \"0\""
      ],
      "execution_count": 1,
      "outputs": [
        {
          "output_type": "stream",
          "text": [
            "Using TensorFlow backend.\n"
          ],
          "name": "stderr"
        }
      ]
    },
    {
      "cell_type": "code",
      "metadata": {
        "id": "8c_K0m_PFuz3",
        "colab_type": "code",
        "colab": {}
      },
      "source": [
        "train, test = keras.datasets.cifar10.load_data()"
      ],
      "execution_count": 0,
      "outputs": []
    },
    {
      "cell_type": "code",
      "metadata": {
        "id": "t8huJpAvFuz7",
        "colab_type": "code",
        "colab": {}
      },
      "source": [
        "## 資料前處理\n",
        "def preproc_x(x, flatten=True):\n",
        "    x = x / 255.\n",
        "    if flatten:\n",
        "        x = x.reshape((len(x), -1))\n",
        "    return x\n",
        "\n",
        "def preproc_y(y, num_classes=10):\n",
        "    if y.shape[-1] == 1:\n",
        "        y = keras.utils.to_categorical(y, num_classes)\n",
        "    return y    "
      ],
      "execution_count": 0,
      "outputs": []
    },
    {
      "cell_type": "code",
      "metadata": {
        "id": "Z68f5xCtFuz_",
        "colab_type": "code",
        "colab": {}
      },
      "source": [
        "x_train, y_train = train\n",
        "x_test, y_test = test\n",
        "\n",
        "# Preproc the inputs\n",
        "x_train = preproc_x(x_train)\n",
        "x_test = preproc_x(x_test)\n",
        "\n",
        "# Preprc the outputs\n",
        "y_train = preproc_y(y_train)\n",
        "y_test = preproc_y(y_test)"
      ],
      "execution_count": 0,
      "outputs": []
    },
    {
      "cell_type": "code",
      "metadata": {
        "id": "frUKfE82Fu0E",
        "colab_type": "code",
        "colab": {}
      },
      "source": [
        "from keras.layers import BatchNormalization\n",
        "def build_mlp(input_shape, output_units=10, num_neurons=[256, 256, 256]):\n",
        "    input_layer = keras.layers.Input(input_shape)\n",
        "    \n",
        "    for i, n_units in enumerate(num_neurons):\n",
        "        if i == 0:\n",
        "            x = keras.layers.Dense(units=n_units, \n",
        "                                   activation=\"relu\", \n",
        "                                   name=\"hidden_layer\"+str(i+1))(input_layer)\n",
        "            x = BatchNormalization()(x)\n",
        "        else:\n",
        "            x = keras.layers.Dense(units=n_units, \n",
        "                                   activation=\"relu\", \n",
        "                                   name=\"hidden_layer\"+str(i+1))(x)\n",
        "            x = BatchNormalization()(x)\n",
        "    \n",
        "    out = keras.layers.Dense(units=output_units, activation=\"softmax\", name=\"output\")(x)\n",
        "    \n",
        "    model = keras.models.Model(inputs=[input_layer], outputs=[out])\n",
        "    return model"
      ],
      "execution_count": 0,
      "outputs": []
    },
    {
      "cell_type": "code",
      "metadata": {
        "id": "8gyGlPH9Fu0I",
        "colab_type": "code",
        "colab": {}
      },
      "source": [
        "## 超參數設定\n",
        "LEARNING_RATE = 1e-3\n",
        "EPOCHS = 25\n",
        "BATCH_SIZE = 1024\n",
        "MOMENTUM = 0.95"
      ],
      "execution_count": 0,
      "outputs": []
    },
    {
      "cell_type": "code",
      "metadata": {
        "id": "Daq8_-GDFu0O",
        "colab_type": "code",
        "colab": {}
      },
      "source": [
        "# 載入 Callbacks\n",
        "from keras.callbacks import Callback\n",
        "import numpy as np\n",
        "\n",
        "# Record_fp_tp\n",
        "class Record_tp_tn(Callback):\n",
        "    \"\"\"Code Here\n",
        "    撰寫一個紀錄 ture positive 與 true negative 數量的 callbacks    \n",
        "    \"\"\"\n",
        "    def on_epoch_end(self, epoch, logs = {}, thres=0.5):\n",
        "        logs = logs or {}\n",
        "        y_true = self.validation_data[1].argmax(axis = 1)\n",
        "        y_pred = self.model.predict(self.validation_data[0])\n",
        "        y_pred = (y_pred[:, 1] >= thres) * 1\n",
        "        \n",
        "        \n",
        "        logs[\"tp\"] = np.sum(np.logical_and(y_true==1,y_pred==1))\n",
        "        logs[\"tn\"] = np.sum(np.logical_and(y_true==0,y_pred==0))\n",
        "\n",
        "        \n",
        "rec_tptn = Record_tp_tn()"
      ],
      "execution_count": 0,
      "outputs": []
    },
    {
      "cell_type": "code",
      "metadata": {
        "scrolled": true,
        "id": "T0_vYEYYFu0S",
        "colab_type": "code",
        "colab": {
          "base_uri": "https://localhost:8080/",
          "height": 1000
        },
        "outputId": "a432e8a1-d05a-4291-a582-51648d4d2d3a"
      },
      "source": [
        "model = build_mlp(input_shape=x_train.shape[1:])\n",
        "model.summary()\n",
        "optimizer = keras.optimizers.SGD(lr=LEARNING_RATE, nesterov=True, momentum=MOMENTUM)\n",
        "model.compile(loss=\"categorical_crossentropy\", metrics=[\"accuracy\"], optimizer=optimizer)\n",
        "\n",
        "model.fit(x_train, y_train, \n",
        "          epochs=EPOCHS, \n",
        "          batch_size=BATCH_SIZE, \n",
        "          validation_data=(x_test, y_test), \n",
        "          shuffle=True,\n",
        "          callbacks=[rec_tptn])\n",
        "\n",
        "\n",
        "# Collect results\n",
        "train_loss = model.history.history[\"loss\"]\n",
        "valid_loss = model.history.history[\"val_loss\"]\n",
        "train_acc = model.history.history[\"acc\"]\n",
        "valid_acc = model.history.history[\"val_acc\"]\n",
        "\n",
        "\"\"\"Code Here\n",
        "將 tp/tn 從訓練完的模型中取出\n",
        "\"\"\"\n",
        "valid_tp = model.history.history['tp']\n",
        "valid_tn = model.history.history['tn']"
      ],
      "execution_count": 16,
      "outputs": [
        {
          "output_type": "stream",
          "text": [
            "_________________________________________________________________\n",
            "Layer (type)                 Output Shape              Param #   \n",
            "=================================================================\n",
            "input_3 (InputLayer)         (None, 3072)              0         \n",
            "_________________________________________________________________\n",
            "hidden_layer1 (Dense)        (None, 256)               786688    \n",
            "_________________________________________________________________\n",
            "batch_normalization_7 (Batch (None, 256)               1024      \n",
            "_________________________________________________________________\n",
            "hidden_layer2 (Dense)        (None, 256)               65792     \n",
            "_________________________________________________________________\n",
            "batch_normalization_8 (Batch (None, 256)               1024      \n",
            "_________________________________________________________________\n",
            "hidden_layer3 (Dense)        (None, 256)               65792     \n",
            "_________________________________________________________________\n",
            "batch_normalization_9 (Batch (None, 256)               1024      \n",
            "_________________________________________________________________\n",
            "output (Dense)               (None, 10)                2570      \n",
            "=================================================================\n",
            "Total params: 923,914\n",
            "Trainable params: 922,378\n",
            "Non-trainable params: 1,536\n",
            "_________________________________________________________________\n",
            "Train on 50000 samples, validate on 10000 samples\n",
            "Epoch 1/25\n",
            "50000/50000 [==============================] - 3s 53us/step - loss: 2.2138 - acc: 0.2691 - val_loss: 2.1444 - val_acc: 0.3193\n",
            "Epoch 2/25\n",
            "50000/50000 [==============================] - 2s 33us/step - loss: 1.7442 - acc: 0.3928 - val_loss: 1.7993 - val_acc: 0.3970\n",
            "Epoch 3/25\n",
            "50000/50000 [==============================] - 2s 34us/step - loss: 1.6202 - acc: 0.4315 - val_loss: 1.6785 - val_acc: 0.4210\n",
            "Epoch 4/25\n",
            "50000/50000 [==============================] - 2s 34us/step - loss: 1.5511 - acc: 0.4560 - val_loss: 1.6409 - val_acc: 0.4286\n",
            "Epoch 5/25\n",
            "50000/50000 [==============================] - 2s 34us/step - loss: 1.4963 - acc: 0.4726 - val_loss: 1.5901 - val_acc: 0.4415\n",
            "Epoch 6/25\n",
            "50000/50000 [==============================] - 2s 34us/step - loss: 1.4531 - acc: 0.4884 - val_loss: 1.5637 - val_acc: 0.4490\n",
            "Epoch 7/25\n",
            "50000/50000 [==============================] - 2s 34us/step - loss: 1.4161 - acc: 0.5005 - val_loss: 1.5436 - val_acc: 0.4639\n",
            "Epoch 8/25\n",
            "50000/50000 [==============================] - 2s 34us/step - loss: 1.3817 - acc: 0.5156 - val_loss: 1.5249 - val_acc: 0.4635\n",
            "Epoch 9/25\n",
            "50000/50000 [==============================] - 2s 34us/step - loss: 1.3516 - acc: 0.5271 - val_loss: 1.5033 - val_acc: 0.4703\n",
            "Epoch 10/25\n",
            "50000/50000 [==============================] - 2s 34us/step - loss: 1.3256 - acc: 0.5359 - val_loss: 1.4932 - val_acc: 0.4726\n",
            "Epoch 11/25\n",
            "50000/50000 [==============================] - 2s 34us/step - loss: 1.2992 - acc: 0.5461 - val_loss: 1.4837 - val_acc: 0.4767\n",
            "Epoch 12/25\n",
            "50000/50000 [==============================] - 2s 34us/step - loss: 1.2759 - acc: 0.5552 - val_loss: 1.4826 - val_acc: 0.4762\n",
            "Epoch 13/25\n",
            "50000/50000 [==============================] - 2s 34us/step - loss: 1.2529 - acc: 0.5640 - val_loss: 1.4718 - val_acc: 0.4800\n",
            "Epoch 14/25\n",
            "50000/50000 [==============================] - 2s 34us/step - loss: 1.2331 - acc: 0.5713 - val_loss: 1.4617 - val_acc: 0.4884\n",
            "Epoch 15/25\n",
            "50000/50000 [==============================] - 2s 34us/step - loss: 1.2113 - acc: 0.5797 - val_loss: 1.4576 - val_acc: 0.4889\n",
            "Epoch 16/25\n",
            "50000/50000 [==============================] - 2s 35us/step - loss: 1.1932 - acc: 0.5851 - val_loss: 1.4600 - val_acc: 0.4849\n",
            "Epoch 17/25\n",
            "50000/50000 [==============================] - 2s 35us/step - loss: 1.1733 - acc: 0.5938 - val_loss: 1.4427 - val_acc: 0.4978\n",
            "Epoch 18/25\n",
            "50000/50000 [==============================] - 2s 35us/step - loss: 1.1525 - acc: 0.6010 - val_loss: 1.4461 - val_acc: 0.4912\n",
            "Epoch 19/25\n",
            "50000/50000 [==============================] - 2s 34us/step - loss: 1.1357 - acc: 0.6076 - val_loss: 1.4351 - val_acc: 0.4960\n",
            "Epoch 20/25\n",
            "50000/50000 [==============================] - 2s 35us/step - loss: 1.1187 - acc: 0.6149 - val_loss: 1.4547 - val_acc: 0.4953\n",
            "Epoch 21/25\n",
            "50000/50000 [==============================] - 2s 35us/step - loss: 1.1020 - acc: 0.6192 - val_loss: 1.4353 - val_acc: 0.5021\n",
            "Epoch 22/25\n",
            "50000/50000 [==============================] - 2s 34us/step - loss: 1.0825 - acc: 0.6289 - val_loss: 1.4269 - val_acc: 0.5026\n",
            "Epoch 23/25\n",
            "50000/50000 [==============================] - 2s 35us/step - loss: 1.0678 - acc: 0.6339 - val_loss: 1.4300 - val_acc: 0.5018\n",
            "Epoch 24/25\n",
            "50000/50000 [==============================] - 2s 35us/step - loss: 1.0507 - acc: 0.6392 - val_loss: 1.4408 - val_acc: 0.4999\n",
            "Epoch 25/25\n",
            "50000/50000 [==============================] - 2s 34us/step - loss: 1.0340 - acc: 0.6465 - val_loss: 1.4373 - val_acc: 0.5017\n"
          ],
          "name": "stdout"
        }
      ]
    },
    {
      "cell_type": "code",
      "metadata": {
        "id": "M0yEXblhFu0V",
        "colab_type": "code",
        "colab": {
          "base_uri": "https://localhost:8080/",
          "height": 809
        },
        "outputId": "4750b60b-c930-47e5-c5e6-a5cbe240241d"
      },
      "source": [
        "import matplotlib.pyplot as plt\n",
        "%matplotlib inline\n",
        "\n",
        "plt.plot(range(len(train_loss)), train_loss, label=\"train loss\")\n",
        "plt.plot(range(len(valid_loss)), valid_loss, label=\"valid loss\")\n",
        "plt.legend()\n",
        "plt.title(\"Loss\")\n",
        "plt.show()\n",
        "\n",
        "plt.plot(range(len(train_acc)), train_acc, label=\"train accuracy\")\n",
        "plt.plot(range(len(valid_acc)), valid_acc, label=\"valid accuracy\")\n",
        "plt.legend()\n",
        "plt.title(\"Accuracy\")\n",
        "plt.show()\n",
        "\n",
        "plt.plot(range(len(valid_tp)), valid_tp, label=\"valid tp\", color=\"navy\")\n",
        "plt.plot(range(len(valid_tn)), valid_tn, label=\"valid tn\", color=\"red\")\n",
        "plt.legend()\n",
        "plt.title(\"True positives and True Negatives\")\n",
        "plt.show()\n"
      ],
      "execution_count": 17,
      "outputs": [
        {
          "output_type": "display_data",
          "data": {
            "image/png": "[encoded data removed]",
            "text/plain": [
              "<Figure size 432x288 with 1 Axes>"
            ]
          },
          "metadata": {
            "tags": []
          }
        },
        {
          "output_type": "display_data",
          "data": {
            "image/png": "[encoded data removed]",
            "text/plain": [
              "<Figure size 432x288 with 1 Axes>"
            ]
          },
          "metadata": {
            "tags": []
          }
        },
        {
          "output_type": "display_data",
          "data": {
            "image/png": "[encoded data removed]",
            "text/plain": [
              "<Figure size 432x288 with 1 Axes>"
            ]
          },
          "metadata": {
            "tags": []
          }
        }
      ]
    }
  ]
}