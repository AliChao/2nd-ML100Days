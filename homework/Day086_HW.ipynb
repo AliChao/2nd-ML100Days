{
  "nbformat": 4,
  "nbformat_minor": 0,
  "metadata": {
    "kernelspec": {
      "name": "python3",
      "display_name": "Python 3"
    },
    "language_info": {
      "codemirror_mode": {
        "name": "ipython",
        "version": 3
      },
      "file_extension": ".py",
      "mimetype": "text/x-python",
      "name": "python",
      "nbconvert_exporter": "python",
      "pygments_lexer": "ipython3",
      "version": "3.6.5"
    },
    "colab": {
      "name": "Copy of Day086_HW.ipynb",
      "version": "0.3.2",
      "provenance": []
    },
    "accelerator": "GPU"
  },
  "cells": [
    {
      "cell_type": "markdown",
      "metadata": {
        "id": "mn1lPcvQqfKj",
        "colab_type": "text"
      },
      "source": [
        "## Work\n",
        "1. 試比較 save_best_only 與否的差異\n",
        "2. 請僅存入將 save_weights_only 設定為 True, 並嘗試 reset ipynb 並將模型與權重重新建回並預測 x_test"
      ]
    },
    {
      "cell_type": "code",
      "metadata": {
        "id": "lgG8xMDZqfKn",
        "colab_type": "code",
        "outputId": "86909a90-7e88-4e0e-f419-0df49d5ab5f4",
        "colab": {
          "base_uri": "https://localhost:8080/",
          "height": 34
        }
      },
      "source": [
        "import os\n",
        "import keras\n",
        "\n",
        "# Disable GPU\n",
        "os.environ[\"CUDA_VISIBLE_DEVICES\"] = \"0\""
      ],
      "execution_count": 1,
      "outputs": [
        {
          "output_type": "stream",
          "text": [
            "Using TensorFlow backend.\n"
          ],
          "name": "stderr"
        }
      ]
    },
    {
      "cell_type": "code",
      "metadata": {
        "id": "L_oawRIPqfKt",
        "colab_type": "code",
        "colab": {}
      },
      "source": [
        "train, test = keras.datasets.cifar10.load_data()"
      ],
      "execution_count": 0,
      "outputs": []
    },
    {
      "cell_type": "code",
      "metadata": {
        "id": "SewPPGIgqfK1",
        "colab_type": "code",
        "colab": {}
      },
      "source": [
        "## 資料前處理\n",
        "def preproc_x(x, flatten=True):\n",
        "    x = x / 255.\n",
        "    if flatten:\n",
        "        x = x.reshape((len(x), -1))\n",
        "    return x\n",
        "\n",
        "def preproc_y(y, num_classes=10):\n",
        "    if y.shape[-1] == 1:\n",
        "        y = keras.utils.to_categorical(y, num_classes)\n",
        "    return y    "
      ],
      "execution_count": 0,
      "outputs": []
    },
    {
      "cell_type": "code",
      "metadata": {
        "id": "bEIwrvZNqfK6",
        "colab_type": "code",
        "colab": {}
      },
      "source": [
        "x_train, y_train = train\n",
        "x_test, y_test = test\n",
        "\n",
        "# Preproc the inputs\n",
        "x_train = preproc_x(x_train)\n",
        "x_test = preproc_x(x_test)\n",
        "\n",
        "# Preprc the outputs\n",
        "y_train = preproc_y(y_train)\n",
        "y_test = preproc_y(y_test)"
      ],
      "execution_count": 0,
      "outputs": []
    },
    {
      "cell_type": "code",
      "metadata": {
        "id": "b1UZH5nDqfLA",
        "colab_type": "code",
        "colab": {}
      },
      "source": [
        "from keras.layers import BatchNormalization\n",
        "\n",
        "def build_mlp(input_shape, output_units=10, num_neurons=[512, 256, 128]):\n",
        "\n",
        "    input_layer = keras.layers.Input(input_shape)\n",
        "    \n",
        "    for i, n_units in enumerate(num_neurons):\n",
        "        if i == 0:\n",
        "            x = keras.layers.Dense(units=n_units, \n",
        "                                   activation=\"relu\", \n",
        "                                   name=\"hidden_layer\"+str(i+1))(input_layer)\n",
        "            x = BatchNormalization()(x)\n",
        "        else:\n",
        "            x = keras.layers.Dense(units=n_units, \n",
        "                                   activation=\"relu\", \n",
        "                                   name=\"hidden_layer\"+str(i+1))(x)\n",
        "            x = BatchNormalization()(x)\n",
        "    \n",
        "    out = keras.layers.Dense(units=output_units, activation=\"softmax\", name=\"output\")(x)\n",
        "    \n",
        "    model = keras.models.Model(inputs=[input_layer], outputs=[out])\n",
        "    return model"
      ],
      "execution_count": 0,
      "outputs": []
    },
    {
      "cell_type": "code",
      "metadata": {
        "id": "ViQsQTqLqfLE",
        "colab_type": "code",
        "colab": {}
      },
      "source": [
        "LEARNING_RATE = 1e-3\n",
        "EPOCHS = 50\n",
        "BATCH_SIZE = 1024\n",
        "MOMENTUM = 0.95\n",
        "SaveBestOnly = True"
      ],
      "execution_count": 0,
      "outputs": []
    },
    {
      "cell_type": "code",
      "metadata": {
        "id": "9xyKkNJCv21Q",
        "colab_type": "code",
        "colab": {}
      },
      "source": [
        "# 載入 Callbacks\n",
        "from keras.callbacks import ModelCheckpoint\n",
        "model_ckpt = ModelCheckpoint(filepath ='./tmp.h5',monitor = 'val_loss', save_best_only=SaveBestOnly)\n"
      ],
      "execution_count": 0,
      "outputs": []
    },
    {
      "cell_type": "code",
      "metadata": {
        "id": "FyFGIoA2qfLH",
        "colab_type": "code",
        "outputId": "135ff547-f042-457b-f5e5-74cbbda231a3",
        "colab": {
          "base_uri": "https://localhost:8080/",
          "height": 1000
        }
      },
      "source": [
        "results = {}\n",
        "model = build_mlp(input_shape=x_train.shape[1:])\n",
        "model.summary()\n",
        "optimizer = keras.optimizers.SGD(lr=LEARNING_RATE, nesterov=True, momentum=MOMENTUM)\n",
        "model.compile(loss=\"categorical_crossentropy\", metrics=[\"accuracy\"], optimizer=optimizer)\n",
        "\n",
        "model.fit(x_train, y_train, \n",
        "          epochs=EPOCHS, \n",
        "          batch_size=BATCH_SIZE, \n",
        "          validation_data=(x_test, y_test), \n",
        "          shuffle=True,\n",
        "          callbacks=[model_ckpt]\n",
        "         )\n",
        "### Collect results\n",
        "train_loss = model.history.history[\"loss\"]\n",
        "valid_loss = model.history.history[\"val_loss\"]\n",
        "train_acc = model.history.history[\"acc\"]\n",
        "valid_acc = model.history.history[\"val_acc\"]\n",
        "\n"
      ],
      "execution_count": 8,
      "outputs": [
        {
          "output_type": "stream",
          "text": [
            "WARNING: Logging before flag parsing goes to stderr.\n",
            "W0812 03:42:09.927414 140298272360320 deprecation_wrapper.py:119] From /usr/local/lib/python3.6/dist-packages/keras/backend/tensorflow_backend.py:74: The name tf.get_default_graph is deprecated. Please use tf.compat.v1.get_default_graph instead.\n",
            "\n",
            "W0812 03:42:09.981363 140298272360320 deprecation_wrapper.py:119] From /usr/local/lib/python3.6/dist-packages/keras/backend/tensorflow_backend.py:517: The name tf.placeholder is deprecated. Please use tf.compat.v1.placeholder instead.\n",
            "\n",
            "W0812 03:42:09.991280 140298272360320 deprecation_wrapper.py:119] From /usr/local/lib/python3.6/dist-packages/keras/backend/tensorflow_backend.py:4138: The name tf.random_uniform is deprecated. Please use tf.random.uniform instead.\n",
            "\n",
            "W0812 03:42:10.118023 140298272360320 deprecation_wrapper.py:119] From /usr/local/lib/python3.6/dist-packages/keras/backend/tensorflow_backend.py:133: The name tf.placeholder_with_default is deprecated. Please use tf.compat.v1.placeholder_with_default instead.\n",
            "\n",
            "W0812 03:42:10.482128 140298272360320 deprecation_wrapper.py:119] From /usr/local/lib/python3.6/dist-packages/keras/optimizers.py:790: The name tf.train.Optimizer is deprecated. Please use tf.compat.v1.train.Optimizer instead.\n",
            "\n",
            "W0812 03:42:10.493935 140298272360320 deprecation_wrapper.py:119] From /usr/local/lib/python3.6/dist-packages/keras/backend/tensorflow_backend.py:3295: The name tf.log is deprecated. Please use tf.math.log instead.\n",
            "\n",
            "W0812 03:42:10.621547 140298272360320 deprecation.py:323] From /usr/local/lib/python3.6/dist-packages/tensorflow/python/ops/math_grad.py:1250: add_dispatch_support.<locals>.wrapper (from tensorflow.python.ops.array_ops) is deprecated and will be removed in a future version.\n",
            "Instructions for updating:\n",
            "Use tf.where in 2.0, which has the same broadcast rule as np.where\n"
          ],
          "name": "stderr"
        },
        {
          "output_type": "stream",
          "text": [
            "_________________________________________________________________\n",
            "Layer (type)                 Output Shape              Param #   \n",
            "=================================================================\n",
            "input_1 (InputLayer)         (None, 3072)              0         \n",
            "_________________________________________________________________\n",
            "hidden_layer1 (Dense)        (None, 512)               1573376   \n",
            "_________________________________________________________________\n",
            "batch_normalization_1 (Batch (None, 512)               2048      \n",
            "_________________________________________________________________\n",
            "hidden_layer2 (Dense)        (None, 256)               131328    \n",
            "_________________________________________________________________\n",
            "batch_normalization_2 (Batch (None, 256)               1024      \n",
            "_________________________________________________________________\n",
            "hidden_layer3 (Dense)        (None, 128)               32896     \n",
            "_________________________________________________________________\n",
            "batch_normalization_3 (Batch (None, 128)               512       \n",
            "_________________________________________________________________\n",
            "output (Dense)               (None, 10)                1290      \n",
            "=================================================================\n",
            "Total params: 1,742,474\n",
            "Trainable params: 1,740,682\n",
            "Non-trainable params: 1,792\n",
            "_________________________________________________________________\n",
            "Train on 50000 samples, validate on 10000 samples\n",
            "Epoch 1/50\n",
            "50000/50000 [==============================] - 6s 123us/step - loss: 2.2264 - acc: 0.2602 - val_loss: 2.0388 - val_acc: 0.3334\n",
            "Epoch 2/50\n",
            "50000/50000 [==============================] - 2s 41us/step - loss: 1.7519 - acc: 0.3918 - val_loss: 1.7847 - val_acc: 0.3859\n",
            "Epoch 3/50\n",
            "50000/50000 [==============================] - 2s 40us/step - loss: 1.6294 - acc: 0.4321 - val_loss: 1.6892 - val_acc: 0.4038\n",
            "Epoch 4/50\n",
            "50000/50000 [==============================] - 2s 40us/step - loss: 1.5566 - acc: 0.4578 - val_loss: 1.6241 - val_acc: 0.4330\n",
            "Epoch 5/50\n",
            "50000/50000 [==============================] - 2s 40us/step - loss: 1.5041 - acc: 0.4742 - val_loss: 1.5815 - val_acc: 0.4501\n",
            "Epoch 6/50\n",
            "50000/50000 [==============================] - 2s 40us/step - loss: 1.4563 - acc: 0.4921 - val_loss: 1.5563 - val_acc: 0.4496\n",
            "Epoch 7/50\n",
            "50000/50000 [==============================] - 2s 40us/step - loss: 1.4177 - acc: 0.5068 - val_loss: 1.5520 - val_acc: 0.4557\n",
            "Epoch 8/50\n",
            "50000/50000 [==============================] - 2s 40us/step - loss: 1.3843 - acc: 0.5182 - val_loss: 1.5279 - val_acc: 0.4626\n",
            "Epoch 9/50\n",
            "50000/50000 [==============================] - 2s 40us/step - loss: 1.3505 - acc: 0.5307 - val_loss: 1.5254 - val_acc: 0.4580\n",
            "Epoch 10/50\n",
            "50000/50000 [==============================] - 2s 40us/step - loss: 1.3208 - acc: 0.5412 - val_loss: 1.4972 - val_acc: 0.4744\n",
            "Epoch 11/50\n",
            "50000/50000 [==============================] - 2s 40us/step - loss: 1.2926 - acc: 0.5523 - val_loss: 1.4958 - val_acc: 0.4736\n",
            "Epoch 12/50\n",
            "50000/50000 [==============================] - 2s 40us/step - loss: 1.2664 - acc: 0.5622 - val_loss: 1.4764 - val_acc: 0.4781\n",
            "Epoch 13/50\n",
            "50000/50000 [==============================] - 2s 40us/step - loss: 1.2400 - acc: 0.5728 - val_loss: 1.4742 - val_acc: 0.4801\n",
            "Epoch 14/50\n",
            "50000/50000 [==============================] - 2s 40us/step - loss: 1.2156 - acc: 0.5817 - val_loss: 1.4639 - val_acc: 0.4910\n",
            "Epoch 15/50\n",
            "50000/50000 [==============================] - 2s 40us/step - loss: 1.1931 - acc: 0.5897 - val_loss: 1.4684 - val_acc: 0.4872\n",
            "Epoch 16/50\n",
            "50000/50000 [==============================] - 2s 40us/step - loss: 1.1688 - acc: 0.6003 - val_loss: 1.4611 - val_acc: 0.4893\n",
            "Epoch 17/50\n",
            "50000/50000 [==============================] - 2s 39us/step - loss: 1.1461 - acc: 0.6067 - val_loss: 1.4498 - val_acc: 0.4938\n",
            "Epoch 18/50\n",
            "50000/50000 [==============================] - 2s 40us/step - loss: 1.1233 - acc: 0.6157 - val_loss: 1.4454 - val_acc: 0.4957\n",
            "Epoch 19/50\n",
            "50000/50000 [==============================] - 2s 40us/step - loss: 1.1012 - acc: 0.6241 - val_loss: 1.4515 - val_acc: 0.4946\n",
            "Epoch 20/50\n",
            "50000/50000 [==============================] - 2s 40us/step - loss: 1.0792 - acc: 0.6321 - val_loss: 1.4470 - val_acc: 0.4920\n",
            "Epoch 21/50\n",
            "50000/50000 [==============================] - 2s 40us/step - loss: 1.0588 - acc: 0.6413 - val_loss: 1.4579 - val_acc: 0.4874\n",
            "Epoch 22/50\n",
            "50000/50000 [==============================] - 2s 40us/step - loss: 1.0372 - acc: 0.6506 - val_loss: 1.4467 - val_acc: 0.4974\n",
            "Epoch 23/50\n",
            "50000/50000 [==============================] - 2s 40us/step - loss: 1.0165 - acc: 0.6566 - val_loss: 1.4449 - val_acc: 0.5004\n",
            "Epoch 24/50\n",
            "50000/50000 [==============================] - 2s 40us/step - loss: 0.9956 - acc: 0.6655 - val_loss: 1.4476 - val_acc: 0.5008\n",
            "Epoch 25/50\n",
            "50000/50000 [==============================] - 2s 40us/step - loss: 0.9746 - acc: 0.6724 - val_loss: 1.4536 - val_acc: 0.4989\n",
            "Epoch 26/50\n",
            "50000/50000 [==============================] - 2s 39us/step - loss: 0.9543 - acc: 0.6802 - val_loss: 1.4433 - val_acc: 0.4979\n",
            "Epoch 27/50\n",
            "50000/50000 [==============================] - 2s 40us/step - loss: 0.9345 - acc: 0.6891 - val_loss: 1.4528 - val_acc: 0.5017\n",
            "Epoch 28/50\n",
            "50000/50000 [==============================] - 2s 39us/step - loss: 0.9119 - acc: 0.6971 - val_loss: 1.4645 - val_acc: 0.4954\n",
            "Epoch 29/50\n",
            "50000/50000 [==============================] - 2s 39us/step - loss: 0.8935 - acc: 0.7044 - val_loss: 1.4627 - val_acc: 0.5033\n",
            "Epoch 30/50\n",
            "50000/50000 [==============================] - 2s 39us/step - loss: 0.8730 - acc: 0.7135 - val_loss: 1.4640 - val_acc: 0.5052\n",
            "Epoch 31/50\n",
            "50000/50000 [==============================] - 2s 40us/step - loss: 0.8542 - acc: 0.7187 - val_loss: 1.4650 - val_acc: 0.5053\n",
            "Epoch 32/50\n",
            "50000/50000 [==============================] - 2s 40us/step - loss: 0.8340 - acc: 0.7280 - val_loss: 1.4712 - val_acc: 0.5022\n",
            "Epoch 33/50\n",
            "50000/50000 [==============================] - 2s 40us/step - loss: 0.8136 - acc: 0.7354 - val_loss: 1.4963 - val_acc: 0.4958\n",
            "Epoch 34/50\n",
            "50000/50000 [==============================] - 2s 40us/step - loss: 0.7950 - acc: 0.7430 - val_loss: 1.4859 - val_acc: 0.5031\n",
            "Epoch 35/50\n",
            "50000/50000 [==============================] - 2s 40us/step - loss: 0.7765 - acc: 0.7496 - val_loss: 1.5073 - val_acc: 0.4990\n",
            "Epoch 36/50\n",
            "50000/50000 [==============================] - 2s 39us/step - loss: 0.7569 - acc: 0.7578 - val_loss: 1.5015 - val_acc: 0.5001\n",
            "Epoch 37/50\n",
            "50000/50000 [==============================] - 2s 40us/step - loss: 0.7377 - acc: 0.7654 - val_loss: 1.5245 - val_acc: 0.4934\n",
            "Epoch 38/50\n",
            "50000/50000 [==============================] - 2s 40us/step - loss: 0.7180 - acc: 0.7734 - val_loss: 1.5214 - val_acc: 0.4999\n",
            "Epoch 39/50\n",
            "50000/50000 [==============================] - 2s 40us/step - loss: 0.7025 - acc: 0.7776 - val_loss: 1.5261 - val_acc: 0.4999\n",
            "Epoch 40/50\n",
            "50000/50000 [==============================] - 2s 40us/step - loss: 0.6832 - acc: 0.7867 - val_loss: 1.5498 - val_acc: 0.4978\n",
            "Epoch 41/50\n",
            "50000/50000 [==============================] - 2s 40us/step - loss: 0.6637 - acc: 0.7941 - val_loss: 1.5395 - val_acc: 0.5043\n",
            "Epoch 42/50\n",
            "50000/50000 [==============================] - 2s 40us/step - loss: 0.6440 - acc: 0.8010 - val_loss: 1.5664 - val_acc: 0.4998\n",
            "Epoch 43/50\n",
            "50000/50000 [==============================] - 2s 40us/step - loss: 0.6278 - acc: 0.8089 - val_loss: 1.5525 - val_acc: 0.5032\n",
            "Epoch 44/50\n",
            "50000/50000 [==============================] - 2s 40us/step - loss: 0.6096 - acc: 0.8162 - val_loss: 1.5929 - val_acc: 0.4986\n",
            "Epoch 45/50\n",
            "50000/50000 [==============================] - 2s 40us/step - loss: 0.5934 - acc: 0.8232 - val_loss: 1.5912 - val_acc: 0.5001\n",
            "Epoch 46/50\n",
            "50000/50000 [==============================] - 2s 40us/step - loss: 0.5756 - acc: 0.8302 - val_loss: 1.5950 - val_acc: 0.5016\n",
            "Epoch 47/50\n",
            "50000/50000 [==============================] - 2s 40us/step - loss: 0.5580 - acc: 0.8361 - val_loss: 1.6118 - val_acc: 0.4938\n",
            "Epoch 48/50\n",
            "50000/50000 [==============================] - 2s 40us/step - loss: 0.5411 - acc: 0.8431 - val_loss: 1.6339 - val_acc: 0.4978\n",
            "Epoch 49/50\n",
            "50000/50000 [==============================] - 2s 39us/step - loss: 0.5244 - acc: 0.8495 - val_loss: 1.6632 - val_acc: 0.4924\n",
            "Epoch 50/50\n",
            "50000/50000 [==============================] - 2s 40us/step - loss: 0.5062 - acc: 0.8570 - val_loss: 1.6505 - val_acc: 0.4949\n"
          ],
          "name": "stdout"
        }
      ]
    },
    {
      "cell_type": "code",
      "metadata": {
        "scrolled": true,
        "id": "Tq2yYmJEqfLK",
        "colab_type": "code",
        "outputId": "56c7f35f-b27a-4466-ce5e-a42388a4c956",
        "colab": {
          "base_uri": "https://localhost:8080/",
          "height": 545
        }
      },
      "source": [
        "import matplotlib.pyplot as plt\n",
        "%matplotlib inline\n",
        "\n",
        "plt.plot(range(len(train_loss)), train_loss, label=\"train loss\")\n",
        "plt.plot(range(len(valid_loss)), valid_loss, label=\"valid loss\")\n",
        "plt.hlines(y=loss_loadback, xmin=0, xmax=len(train_loss), colors='r', linestyles='--')\n",
        "plt.legend()\n",
        "plt.title(\"Loss\")\n",
        "plt.show()\n",
        "\n",
        "plt.plot(range(len(train_acc)), train_acc, label=\"train accuracy\")\n",
        "plt.plot(range(len(valid_acc)), valid_acc, label=\"valid accuracy\")\n",
        "plt.hlines(y=acc_loadback, xmin=0, xmax=len(train_loss), colors='r', linestyles='--')\n",
        "plt.legend()\n",
        "plt.title(\"Accuracy\")\n",
        "plt.show()"
      ],
      "execution_count": 0,
      "outputs": [
        {
          "output_type": "display_data",
          "data": {
            "image/png": "[encoded data removed]",
            "text/plain": [
              "<Figure size 432x288 with 1 Axes>"
            ]
          },
          "metadata": {
            "tags": []
          }
        },
        {
          "output_type": "display_data",
          "data": {
            "image/png": "[encoded data removed]",
            "text/plain": [
              "<Figure size 432x288 with 1 Axes>"
            ]
          },
          "metadata": {
            "tags": []
          }
        }
      ]
    },
    {
      "cell_type": "markdown",
      "metadata": {
        "id": "WUxFhmCo4561",
        "colab_type": "text"
      },
      "source": [
        "1. 試比較 save_best_only 與否的差異\n",
        "\n",
        "差異再最後結束的位置，當開啟save_best_only時，會記錄在損失函數最低點\n",
        "關閉時，會記錄在最後一次"
      ]
    },
    {
      "cell_type": "code",
      "metadata": {
        "id": "erv3PZEC5Vo1",
        "colab_type": "code",
        "outputId": "ddc8ccab-6210-45d0-a141-6d737317d7af",
        "colab": {
          "base_uri": "https://localhost:8080/",
          "height": 34
        }
      },
      "source": [
        "# Load back\n",
        "model = keras.models.load_model(\"./tmp.h5\")\n",
        "loss_loadback, acc_loadback = model.evaluate(x_test, y_test)\n"
      ],
      "execution_count": 9,
      "outputs": [
        {
          "output_type": "stream",
          "text": [
            "10000/10000 [==============================] - 1s 104us/step\n"
          ],
          "name": "stdout"
        }
      ]
    },
    {
      "cell_type": "code",
      "metadata": {
        "id": "6evmGXza8WIl",
        "colab_type": "code",
        "colab": {}
      },
      "source": [
        ""
      ],
      "execution_count": 0,
      "outputs": []
    }
  ]
}