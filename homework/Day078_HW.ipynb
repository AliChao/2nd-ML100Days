{
  "nbformat": 4,
  "nbformat_minor": 0,
  "metadata": {
    "kernelspec": {
      "name": "python3",
      "display_name": "Python 3"
    },
    "language_info": {
      "codemirror_mode": {
        "name": "ipython",
        "version": 3
      },
      "file_extension": ".py",
      "mimetype": "text/x-python",
      "name": "python",
      "nbconvert_exporter": "python",
      "pygments_lexer": "ipython3",
      "version": "3.6.5"
    },
    "colab": {
      "name": "Day078_HW.ipynb",
      "version": "0.3.2",
      "provenance": []
    },
    "accelerator": "GPU"
  },
  "cells": [
    {
      "cell_type": "markdown",
      "metadata": {
        "id": "HTQ5IRSKGZ5A",
        "colab_type": "text"
      },
      "source": [
        "## Work\n",
        "1. 請嘗試將 preproc_x 替換成以每筆資料的 min/max 進行標準化至 -1 ~ 1 間，再進行訓練\n",
        "2. 請嘗試將 mlp 疊更深 (e.g 5~10 層)，進行訓練後觀察 learning curve 的走勢\n",
        "3. (optional) 請改用 GPU 進行訓練 (如果你有 GPU 的話)，比較使用 CPU 與 GPU 的訓練速度"
      ]
    },
    {
      "cell_type": "code",
      "metadata": {
        "id": "jeVXNyiDGZ5D",
        "colab_type": "code",
        "colab": {}
      },
      "source": [
        "## \n",
        "\"\"\"\n",
        "Your code here (optional)\n",
        "確認硬體資源\n",
        "\"\"\"\n"
      ],
      "execution_count": 0,
      "outputs": []
    },
    {
      "cell_type": "code",
      "metadata": {
        "id": "hWwVJ-6zGZ5J",
        "colab_type": "code",
        "colab": {
          "base_uri": "https://localhost:8080/",
          "height": 34
        },
        "outputId": "f09db094-e6f4-468d-8046-b24940f5fafe"
      },
      "source": [
        "import os\n",
        "import keras\n",
        "\n",
        "os.environ[\"CUDA_VISIBLE_DEVICES\"]= \"0\"\n",
        "\n",
        "# 請嘗試設定 GPU：os.environ\n"
      ],
      "execution_count": 2,
      "outputs": [
        {
          "output_type": "stream",
          "text": [
            "Using TensorFlow backend.\n"
          ],
          "name": "stderr"
        }
      ]
    },
    {
      "cell_type": "code",
      "metadata": {
        "id": "Tlhu8T0pGZ5N",
        "colab_type": "code",
        "colab": {
          "base_uri": "https://localhost:8080/",
          "height": 51
        },
        "outputId": "fbb77fbc-fc46-404f-e3e6-f9b30e66b464"
      },
      "source": [
        "train, test = keras.datasets.cifar10.load_data()"
      ],
      "execution_count": 3,
      "outputs": [
        {
          "output_type": "stream",
          "text": [
            "Downloading data from https://www.cs.toronto.edu/~kriz/cifar-10-python.tar.gz\n",
            "170500096/170498071 [==============================] - 2s 0us/step\n"
          ],
          "name": "stdout"
        }
      ]
    },
    {
      "cell_type": "code",
      "metadata": {
        "id": "ciAC7OOLGZ5Q",
        "colab_type": "code",
        "colab": {}
      },
      "source": [
        "## 資料前處理\n",
        "def preproc_x(x, flatten=True):\n",
        "    x = 2*(((x - x.min()) / (x.max() - x.min()))-0.5)\n",
        "    if flatten:\n",
        "        x = x.reshape((len(x), -1))\n",
        "    return x\n",
        "\n",
        "def preproc_y(y, num_classes=10):\n",
        "    if y.shape[-1] == 1:\n",
        "        y = keras.utils.to_categorical(y, num_classes)\n",
        "    return y"
      ],
      "execution_count": 0,
      "outputs": []
    },
    {
      "cell_type": "code",
      "metadata": {
        "id": "4Cj-_KFdnYKZ",
        "colab_type": "code",
        "colab": {}
      },
      "source": [
        ""
      ],
      "execution_count": 0,
      "outputs": []
    },
    {
      "cell_type": "code",
      "metadata": {
        "id": "DHle93CpGZ5Z",
        "colab_type": "code",
        "colab": {}
      },
      "source": [
        "x_train, y_train = train\n",
        "x_test, y_test = test\n",
        "\n",
        "# Preproc the inputs\n",
        "x_train = preproc_x(x_train)\n",
        "x_test = preproc_x(x_test)\n",
        "\n",
        "# Preprc the outputs\n",
        "y_train = preproc_y(y_train)\n",
        "y_test = preproc_y(y_test)"
      ],
      "execution_count": 0,
      "outputs": []
    },
    {
      "cell_type": "code",
      "metadata": {
        "id": "8lB7GBExGZ5c",
        "colab_type": "code",
        "colab": {}
      },
      "source": [
        "\"\"\"Code Here\n",
        "建立你的神經網路\n",
        "\"\"\"\n",
        "def build_mlp(input_shape, output_units = 10, num_neurons=[512,256,128,64,32,16]):\n",
        "  input_layer = keras.layers.Input(input_shape)\n",
        "  \n",
        "  for i, n_units in enumerate(num_neurons):\n",
        "    if i == 0:\n",
        "        x = keras.layers.Dense(units =n_units, activation = \"relu\" , name=\"hiden_layer\"+str(i+1))(input_layer)\n",
        "    else :\n",
        "        x = keras.layers.Dense(units =n_units, activation = \"relu\" , name=\"hiden_layer\"+str(i+1))(x)\n",
        "  \n",
        "  out = keras.layers.Dense(units=output_units, activation =\"softmax\", name = \"output\")(x)\n",
        "  \n",
        "  model = keras.models.Model(inputs=[input_layer], outputs=[out])\n",
        "  return model\n"
      ],
      "execution_count": 0,
      "outputs": []
    },
    {
      "cell_type": "code",
      "metadata": {
        "id": "qi1hIu7NtRUs",
        "colab_type": "code",
        "colab": {
          "base_uri": "https://localhost:8080/",
          "height": 408
        },
        "outputId": "7eb99215-937e-4946-980f-d5bd0e413dbc"
      },
      "source": [
        "model = build_mlp(input_shape=x_train.shape[1:])\n",
        "model.summary()"
      ],
      "execution_count": 28,
      "outputs": [
        {
          "output_type": "stream",
          "text": [
            "_________________________________________________________________\n",
            "Layer (type)                 Output Shape              Param #   \n",
            "=================================================================\n",
            "input_4 (InputLayer)         (None, 3072)              0         \n",
            "_________________________________________________________________\n",
            "hiden_layer1 (Dense)         (None, 512)               1573376   \n",
            "_________________________________________________________________\n",
            "hiden_layer2 (Dense)         (None, 256)               131328    \n",
            "_________________________________________________________________\n",
            "hiden_layer3 (Dense)         (None, 128)               32896     \n",
            "_________________________________________________________________\n",
            "hiden_layer4 (Dense)         (None, 64)                8256      \n",
            "_________________________________________________________________\n",
            "hiden_layer5 (Dense)         (None, 32)                2080      \n",
            "_________________________________________________________________\n",
            "hiden_layer6 (Dense)         (None, 16)                528       \n",
            "_________________________________________________________________\n",
            "output (Dense)               (None, 10)                170       \n",
            "=================================================================\n",
            "Total params: 1,748,634\n",
            "Trainable params: 1,748,634\n",
            "Non-trainable params: 0\n",
            "_________________________________________________________________\n"
          ],
          "name": "stdout"
        }
      ]
    },
    {
      "cell_type": "code",
      "metadata": {
        "id": "Z-MflLnaGZ5f",
        "colab_type": "code",
        "colab": {}
      },
      "source": [
        "## 超參數設定\n",
        "LEARNING_RATE = 0.001\n",
        "EPOCHS = 100\n",
        "BATCH_SIZE = 256"
      ],
      "execution_count": 0,
      "outputs": []
    },
    {
      "cell_type": "code",
      "metadata": {
        "id": "-M5I6wvRGZ5j",
        "colab_type": "code",
        "colab": {}
      },
      "source": [
        "optimizer = keras.optimizers.Adam(lr=LEARNING_RATE)\n",
        "model.compile(loss=\"categorical_crossentropy\", metrics=[\"accuracy\"], optimizer=optimizer)"
      ],
      "execution_count": 0,
      "outputs": []
    },
    {
      "cell_type": "code",
      "metadata": {
        "id": "AJIcDOm6GZ5o",
        "colab_type": "code",
        "colab": {
          "base_uri": "https://localhost:8080/",
          "height": 1000
        },
        "outputId": "13ed5cb7-6a92-4679-cd5b-d8f36fceae65"
      },
      "source": [
        "model.fit(x_train, y_train, \n",
        "          epochs=EPOCHS, \n",
        "          batch_size=BATCH_SIZE, \n",
        "          validation_data=(x_test, y_test), \n",
        "          shuffle=True)"
      ],
      "execution_count": 32,
      "outputs": [
        {
          "output_type": "stream",
          "text": [
            "Train on 50000 samples, validate on 10000 samples\n",
            "Epoch 1/100\n",
            "50000/50000 [==============================] - 3s 58us/step - loss: 1.9285 - acc: 0.3135 - val_loss: 1.7020 - val_acc: 0.3998\n",
            "Epoch 2/100\n",
            "50000/50000 [==============================] - 2s 46us/step - loss: 1.5995 - acc: 0.4352 - val_loss: 1.5331 - val_acc: 0.4616\n",
            "Epoch 3/100\n",
            "50000/50000 [==============================] - 2s 48us/step - loss: 1.4576 - acc: 0.4867 - val_loss: 1.4528 - val_acc: 0.4886\n",
            "Epoch 4/100\n",
            "50000/50000 [==============================] - 2s 48us/step - loss: 1.3479 - acc: 0.5252 - val_loss: 1.4196 - val_acc: 0.5069\n",
            "Epoch 5/100\n",
            "50000/50000 [==============================] - 2s 45us/step - loss: 1.2610 - acc: 0.5575 - val_loss: 1.3863 - val_acc: 0.5128\n",
            "Epoch 6/100\n",
            "50000/50000 [==============================] - 2s 46us/step - loss: 1.1846 - acc: 0.5825 - val_loss: 1.3776 - val_acc: 0.5294\n",
            "Epoch 7/100\n",
            "50000/50000 [==============================] - 2s 46us/step - loss: 1.1061 - acc: 0.6109 - val_loss: 1.3653 - val_acc: 0.5270\n",
            "Epoch 8/100\n",
            "50000/50000 [==============================] - 2s 46us/step - loss: 1.0397 - acc: 0.6330 - val_loss: 1.4041 - val_acc: 0.5230\n",
            "Epoch 9/100\n",
            "50000/50000 [==============================] - 2s 46us/step - loss: 0.9693 - acc: 0.6608 - val_loss: 1.3795 - val_acc: 0.5323\n",
            "Epoch 10/100\n",
            "50000/50000 [==============================] - 2s 46us/step - loss: 0.8991 - acc: 0.6828 - val_loss: 1.4425 - val_acc: 0.5190\n",
            "Epoch 11/100\n",
            "50000/50000 [==============================] - 2s 46us/step - loss: 0.8351 - acc: 0.7058 - val_loss: 1.4562 - val_acc: 0.5419\n",
            "Epoch 12/100\n",
            "50000/50000 [==============================] - 2s 45us/step - loss: 0.7771 - acc: 0.7255 - val_loss: 1.5196 - val_acc: 0.5406\n",
            "Epoch 13/100\n",
            "50000/50000 [==============================] - 2s 46us/step - loss: 0.7232 - acc: 0.7453 - val_loss: 1.5067 - val_acc: 0.5388\n",
            "Epoch 14/100\n",
            "50000/50000 [==============================] - 2s 45us/step - loss: 0.6543 - acc: 0.7691 - val_loss: 1.6529 - val_acc: 0.5325\n",
            "Epoch 15/100\n",
            "50000/50000 [==============================] - 2s 46us/step - loss: 0.6033 - acc: 0.7873 - val_loss: 1.6739 - val_acc: 0.5323\n",
            "Epoch 16/100\n",
            "50000/50000 [==============================] - 2s 46us/step - loss: 0.5617 - acc: 0.8028 - val_loss: 1.7574 - val_acc: 0.5287\n",
            "Epoch 17/100\n",
            "50000/50000 [==============================] - 2s 46us/step - loss: 0.5152 - acc: 0.8204 - val_loss: 1.8621 - val_acc: 0.5307\n",
            "Epoch 18/100\n",
            "50000/50000 [==============================] - 2s 44us/step - loss: 0.4788 - acc: 0.8315 - val_loss: 1.9428 - val_acc: 0.5250\n",
            "Epoch 19/100\n",
            "50000/50000 [==============================] - 2s 46us/step - loss: 0.4256 - acc: 0.8522 - val_loss: 2.0349 - val_acc: 0.5273\n",
            "Epoch 20/100\n",
            "50000/50000 [==============================] - 2s 45us/step - loss: 0.4082 - acc: 0.8586 - val_loss: 2.0334 - val_acc: 0.5293\n",
            "Epoch 21/100\n",
            "50000/50000 [==============================] - 2s 46us/step - loss: 0.3563 - acc: 0.8758 - val_loss: 2.2180 - val_acc: 0.5211\n",
            "Epoch 22/100\n",
            "50000/50000 [==============================] - 2s 46us/step - loss: 0.3423 - acc: 0.8812 - val_loss: 2.3053 - val_acc: 0.5284\n",
            "Epoch 23/100\n",
            "50000/50000 [==============================] - 2s 46us/step - loss: 0.3166 - acc: 0.8897 - val_loss: 2.3698 - val_acc: 0.5296\n",
            "Epoch 24/100\n",
            "50000/50000 [==============================] - 2s 46us/step - loss: 0.3004 - acc: 0.8962 - val_loss: 2.4150 - val_acc: 0.5190\n",
            "Epoch 25/100\n",
            "50000/50000 [==============================] - 2s 46us/step - loss: 0.2792 - acc: 0.9034 - val_loss: 2.4168 - val_acc: 0.5244\n",
            "Epoch 26/100\n",
            "50000/50000 [==============================] - 2s 46us/step - loss: 0.2572 - acc: 0.9122 - val_loss: 2.6670 - val_acc: 0.5304\n",
            "Epoch 27/100\n",
            "50000/50000 [==============================] - 2s 45us/step - loss: 0.2480 - acc: 0.9145 - val_loss: 2.6800 - val_acc: 0.5246\n",
            "Epoch 28/100\n",
            "50000/50000 [==============================] - 2s 47us/step - loss: 0.2442 - acc: 0.9159 - val_loss: 2.8171 - val_acc: 0.5268\n",
            "Epoch 29/100\n",
            "50000/50000 [==============================] - 2s 48us/step - loss: 0.2204 - acc: 0.9246 - val_loss: 2.6791 - val_acc: 0.5260\n",
            "Epoch 30/100\n",
            "50000/50000 [==============================] - 2s 49us/step - loss: 0.2135 - acc: 0.9270 - val_loss: 2.8451 - val_acc: 0.5232\n",
            "Epoch 31/100\n",
            "50000/50000 [==============================] - 2s 47us/step - loss: 0.2115 - acc: 0.9275 - val_loss: 2.9134 - val_acc: 0.5313\n",
            "Epoch 32/100\n",
            "50000/50000 [==============================] - 2s 48us/step - loss: 0.2091 - acc: 0.9276 - val_loss: 2.8752 - val_acc: 0.5331\n",
            "Epoch 33/100\n",
            "50000/50000 [==============================] - 2s 46us/step - loss: 0.1706 - acc: 0.9415 - val_loss: 2.9876 - val_acc: 0.5269\n",
            "Epoch 34/100\n",
            "50000/50000 [==============================] - 2s 47us/step - loss: 0.1814 - acc: 0.9384 - val_loss: 3.0383 - val_acc: 0.5292\n",
            "Epoch 35/100\n",
            "50000/50000 [==============================] - 2s 46us/step - loss: 0.1648 - acc: 0.9430 - val_loss: 3.0723 - val_acc: 0.5245\n",
            "Epoch 36/100\n",
            "50000/50000 [==============================] - 2s 46us/step - loss: 0.1650 - acc: 0.9450 - val_loss: 3.1420 - val_acc: 0.5313\n",
            "Epoch 37/100\n",
            "50000/50000 [==============================] - 2s 45us/step - loss: 0.1797 - acc: 0.9384 - val_loss: 3.1289 - val_acc: 0.5275\n",
            "Epoch 38/100\n",
            "50000/50000 [==============================] - 2s 46us/step - loss: 0.1559 - acc: 0.9471 - val_loss: 3.1785 - val_acc: 0.5263\n",
            "Epoch 39/100\n",
            "50000/50000 [==============================] - 2s 47us/step - loss: 0.1530 - acc: 0.9476 - val_loss: 3.1593 - val_acc: 0.5229\n",
            "Epoch 40/100\n",
            "50000/50000 [==============================] - 2s 46us/step - loss: 0.1425 - acc: 0.9521 - val_loss: 3.2928 - val_acc: 0.5270\n",
            "Epoch 41/100\n",
            "50000/50000 [==============================] - 2s 47us/step - loss: 0.1448 - acc: 0.9503 - val_loss: 3.3061 - val_acc: 0.5213\n",
            "Epoch 42/100\n",
            "50000/50000 [==============================] - 2s 46us/step - loss: 0.1453 - acc: 0.9512 - val_loss: 3.2451 - val_acc: 0.5321\n",
            "Epoch 43/100\n",
            "50000/50000 [==============================] - 2s 46us/step - loss: 0.1333 - acc: 0.9555 - val_loss: 3.2966 - val_acc: 0.5252\n",
            "Epoch 44/100\n",
            "50000/50000 [==============================] - 2s 45us/step - loss: 0.1177 - acc: 0.9600 - val_loss: 3.4344 - val_acc: 0.5280\n",
            "Epoch 45/100\n",
            "50000/50000 [==============================] - 2s 45us/step - loss: 0.1363 - acc: 0.9548 - val_loss: 3.4103 - val_acc: 0.5192\n",
            "Epoch 46/100\n",
            "50000/50000 [==============================] - 2s 46us/step - loss: 0.1280 - acc: 0.9574 - val_loss: 3.4141 - val_acc: 0.5275\n",
            "Epoch 47/100\n",
            "50000/50000 [==============================] - 2s 46us/step - loss: 0.1218 - acc: 0.9598 - val_loss: 3.4602 - val_acc: 0.5273\n",
            "Epoch 48/100\n",
            "50000/50000 [==============================] - 2s 46us/step - loss: 0.1322 - acc: 0.9558 - val_loss: 3.3799 - val_acc: 0.5248\n",
            "Epoch 49/100\n",
            "50000/50000 [==============================] - 2s 46us/step - loss: 0.0977 - acc: 0.9667 - val_loss: 3.6224 - val_acc: 0.5240\n",
            "Epoch 50/100\n",
            "50000/50000 [==============================] - 2s 44us/step - loss: 0.1103 - acc: 0.9637 - val_loss: 3.5358 - val_acc: 0.5246\n",
            "Epoch 51/100\n",
            "50000/50000 [==============================] - 2s 45us/step - loss: 0.1219 - acc: 0.9600 - val_loss: 3.4198 - val_acc: 0.5210\n",
            "Epoch 52/100\n",
            "50000/50000 [==============================] - 2s 46us/step - loss: 0.1262 - acc: 0.9587 - val_loss: 3.4543 - val_acc: 0.5277\n",
            "Epoch 53/100\n",
            "50000/50000 [==============================] - 2s 46us/step - loss: 0.1102 - acc: 0.9644 - val_loss: 3.4208 - val_acc: 0.5224\n",
            "Epoch 54/100\n",
            "50000/50000 [==============================] - 2s 46us/step - loss: 0.1120 - acc: 0.9627 - val_loss: 3.5158 - val_acc: 0.5326\n",
            "Epoch 55/100\n",
            "50000/50000 [==============================] - 2s 47us/step - loss: 0.0967 - acc: 0.9685 - val_loss: 3.6361 - val_acc: 0.5251\n",
            "Epoch 56/100\n",
            "50000/50000 [==============================] - 2s 45us/step - loss: 0.1175 - acc: 0.9612 - val_loss: 3.5984 - val_acc: 0.5277\n",
            "Epoch 57/100\n",
            "50000/50000 [==============================] - 2s 46us/step - loss: 0.0882 - acc: 0.9707 - val_loss: 3.7202 - val_acc: 0.5250\n",
            "Epoch 58/100\n",
            "50000/50000 [==============================] - 2s 46us/step - loss: 0.1141 - acc: 0.9627 - val_loss: 3.5718 - val_acc: 0.5220\n",
            "Epoch 59/100\n",
            "50000/50000 [==============================] - 2s 46us/step - loss: 0.1013 - acc: 0.9657 - val_loss: 3.6509 - val_acc: 0.5334\n",
            "Epoch 60/100\n",
            "50000/50000 [==============================] - 2s 46us/step - loss: 0.0737 - acc: 0.9760 - val_loss: 3.7421 - val_acc: 0.5335\n",
            "Epoch 61/100\n",
            "50000/50000 [==============================] - 2s 47us/step - loss: 0.0963 - acc: 0.9683 - val_loss: 3.5756 - val_acc: 0.5226\n",
            "Epoch 62/100\n",
            "50000/50000 [==============================] - 2s 46us/step - loss: 0.0953 - acc: 0.9682 - val_loss: 3.8037 - val_acc: 0.5233\n",
            "Epoch 63/100\n",
            "50000/50000 [==============================] - 2s 44us/step - loss: 0.1068 - acc: 0.9655 - val_loss: 3.6457 - val_acc: 0.5268\n",
            "Epoch 64/100\n",
            "50000/50000 [==============================] - 2s 45us/step - loss: 0.0970 - acc: 0.9683 - val_loss: 3.6546 - val_acc: 0.5250\n",
            "Epoch 65/100\n",
            "50000/50000 [==============================] - 2s 46us/step - loss: 0.0922 - acc: 0.9692 - val_loss: 3.6556 - val_acc: 0.5283\n",
            "Epoch 66/100\n",
            "50000/50000 [==============================] - 2s 47us/step - loss: 0.1000 - acc: 0.9673 - val_loss: 3.6548 - val_acc: 0.5200\n",
            "Epoch 67/100\n",
            "50000/50000 [==============================] - 2s 47us/step - loss: 0.0682 - acc: 0.9780 - val_loss: 3.7654 - val_acc: 0.5259\n",
            "Epoch 68/100\n",
            "50000/50000 [==============================] - 2s 46us/step - loss: 0.0900 - acc: 0.9707 - val_loss: 3.7411 - val_acc: 0.5300\n",
            "Epoch 69/100\n",
            "50000/50000 [==============================] - 2s 45us/step - loss: 0.0835 - acc: 0.9724 - val_loss: 3.8123 - val_acc: 0.5285\n",
            "Epoch 70/100\n",
            "50000/50000 [==============================] - 2s 45us/step - loss: 0.1095 - acc: 0.9650 - val_loss: 3.6065 - val_acc: 0.5205\n",
            "Epoch 71/100\n",
            "50000/50000 [==============================] - 2s 45us/step - loss: 0.0672 - acc: 0.9777 - val_loss: 3.7988 - val_acc: 0.5269\n",
            "Epoch 72/100\n",
            "50000/50000 [==============================] - 2s 46us/step - loss: 0.0839 - acc: 0.9717 - val_loss: 3.7076 - val_acc: 0.5254\n",
            "Epoch 73/100\n",
            "50000/50000 [==============================] - 2s 47us/step - loss: 0.0913 - acc: 0.9699 - val_loss: 3.8599 - val_acc: 0.5254\n",
            "Epoch 74/100\n",
            "50000/50000 [==============================] - 2s 46us/step - loss: 0.0764 - acc: 0.9756 - val_loss: 3.7687 - val_acc: 0.5286\n",
            "Epoch 75/100\n",
            "50000/50000 [==============================] - 2s 46us/step - loss: 0.0870 - acc: 0.9724 - val_loss: 3.7796 - val_acc: 0.5245\n",
            "Epoch 76/100\n",
            "50000/50000 [==============================] - 2s 45us/step - loss: 0.0796 - acc: 0.9741 - val_loss: 3.8570 - val_acc: 0.5259\n",
            "Epoch 77/100\n",
            "50000/50000 [==============================] - 2s 46us/step - loss: 0.0831 - acc: 0.9722 - val_loss: 3.7906 - val_acc: 0.5341\n",
            "Epoch 78/100\n",
            "50000/50000 [==============================] - 2s 45us/step - loss: 0.0644 - acc: 0.9789 - val_loss: 3.8649 - val_acc: 0.5267\n",
            "Epoch 79/100\n",
            "50000/50000 [==============================] - 2s 46us/step - loss: 0.0809 - acc: 0.9737 - val_loss: 3.8282 - val_acc: 0.5216\n",
            "Epoch 80/100\n",
            "50000/50000 [==============================] - 2s 46us/step - loss: 0.0832 - acc: 0.9731 - val_loss: 3.7654 - val_acc: 0.5409\n",
            "Epoch 81/100\n",
            "50000/50000 [==============================] - 2s 46us/step - loss: 0.0675 - acc: 0.9782 - val_loss: 3.9772 - val_acc: 0.5245\n",
            "Epoch 82/100\n",
            "50000/50000 [==============================] - 2s 45us/step - loss: 0.0869 - acc: 0.9721 - val_loss: 3.7101 - val_acc: 0.5291\n",
            "Epoch 83/100\n",
            "50000/50000 [==============================] - 2s 46us/step - loss: 0.0714 - acc: 0.9775 - val_loss: 3.8839 - val_acc: 0.5307\n",
            "Epoch 84/100\n",
            "50000/50000 [==============================] - 2s 46us/step - loss: 0.0638 - acc: 0.9786 - val_loss: 3.9224 - val_acc: 0.5252\n",
            "Epoch 85/100\n",
            "50000/50000 [==============================] - 2s 45us/step - loss: 0.0756 - acc: 0.9761 - val_loss: 3.8805 - val_acc: 0.5234\n",
            "Epoch 86/100\n",
            "50000/50000 [==============================] - 2s 46us/step - loss: 0.0840 - acc: 0.9729 - val_loss: 3.9138 - val_acc: 0.5233\n",
            "Epoch 87/100\n",
            "50000/50000 [==============================] - 2s 45us/step - loss: 0.0617 - acc: 0.9800 - val_loss: 3.9375 - val_acc: 0.5238\n",
            "Epoch 88/100\n",
            "50000/50000 [==============================] - 2s 46us/step - loss: 0.0839 - acc: 0.9731 - val_loss: 3.9030 - val_acc: 0.5232\n",
            "Epoch 89/100\n",
            "50000/50000 [==============================] - 2s 45us/step - loss: 0.0770 - acc: 0.9750 - val_loss: 3.8788 - val_acc: 0.5205\n",
            "Epoch 90/100\n",
            "50000/50000 [==============================] - 2s 46us/step - loss: 0.0699 - acc: 0.9766 - val_loss: 3.9514 - val_acc: 0.5321\n",
            "Epoch 91/100\n",
            "50000/50000 [==============================] - 2s 47us/step - loss: 0.0469 - acc: 0.9848 - val_loss: 3.9746 - val_acc: 0.5305\n",
            "Epoch 92/100\n",
            "50000/50000 [==============================] - 2s 47us/step - loss: 0.0688 - acc: 0.9778 - val_loss: 3.9513 - val_acc: 0.5251\n",
            "Epoch 93/100\n",
            "50000/50000 [==============================] - 2s 46us/step - loss: 0.0739 - acc: 0.9761 - val_loss: 3.8777 - val_acc: 0.5249\n",
            "Epoch 94/100\n",
            "50000/50000 [==============================] - 2s 46us/step - loss: 0.0727 - acc: 0.9776 - val_loss: 3.8360 - val_acc: 0.5319\n",
            "Epoch 95/100\n",
            "50000/50000 [==============================] - 2s 48us/step - loss: 0.0551 - acc: 0.9822 - val_loss: 4.0691 - val_acc: 0.5216\n",
            "Epoch 96/100\n",
            "50000/50000 [==============================] - 2s 46us/step - loss: 0.0678 - acc: 0.9784 - val_loss: 3.9087 - val_acc: 0.5342\n",
            "Epoch 97/100\n",
            "50000/50000 [==============================] - 2s 44us/step - loss: 0.0718 - acc: 0.9771 - val_loss: 4.0552 - val_acc: 0.5241\n",
            "Epoch 98/100\n",
            "50000/50000 [==============================] - 2s 45us/step - loss: 0.0509 - acc: 0.9837 - val_loss: 3.9747 - val_acc: 0.5246\n",
            "Epoch 99/100\n",
            "50000/50000 [==============================] - 2s 45us/step - loss: 0.0539 - acc: 0.9828 - val_loss: 3.9771 - val_acc: 0.5319\n",
            "Epoch 100/100\n",
            "50000/50000 [==============================] - 2s 46us/step - loss: 0.0611 - acc: 0.9801 - val_loss: 4.0665 - val_acc: 0.5283\n"
          ],
          "name": "stdout"
        },
        {
          "output_type": "execute_result",
          "data": {
            "text/plain": [
              "<keras.callbacks.History at 0x7f662d7ea470>"
            ]
          },
          "metadata": {
            "tags": []
          },
          "execution_count": 32
        }
      ]
    },
    {
      "cell_type": "code",
      "metadata": {
        "id": "AILrD72bGZ5s",
        "colab_type": "code",
        "colab": {
          "base_uri": "https://localhost:8080/",
          "height": 545
        },
        "outputId": "4d07dede-f0c4-482a-8a7e-24d1b7f9c223"
      },
      "source": [
        "import matplotlib.pyplot as plt\n",
        "\n",
        "\n",
        "train_loss = model.history.history[\"loss\"]\n",
        "valid_loss = model.history.history[\"val_loss\"]\n",
        "\n",
        "train_acc = model.history.history[\"acc\"]\n",
        "valid_acc = model.history.history[\"val_acc\"]\n",
        "\n",
        "plt.plot(range(len(train_loss)), train_loss, label=\"train loss\")\n",
        "plt.plot(range(len(valid_loss)), valid_loss, label=\"valid loss\")\n",
        "plt.legend()\n",
        "plt.title(\"Loss\")\n",
        "plt.show()\n",
        "\n",
        "plt.plot(range(len(train_acc)), train_acc, label=\"train accuracy\")\n",
        "plt.plot(range(len(valid_acc)), valid_acc, label=\"valid accuracy\")\n",
        "plt.legend()\n",
        "plt.title(\"Accuracy\")\n",
        "plt.show()"
      ],
      "execution_count": 33,
      "outputs": [
        {
          "output_type": "display_data",
          "data": {
            "image/png": "[encoded data removed]",
            "text/plain": [
              "<Figure size 432x288 with 1 Axes>"
            ]
          },
          "metadata": {
            "tags": []
          }
        },
        {
          "output_type": "display_data",
          "data": {
            "image/png": "[encoded data removed]",
            "text/plain": [
              "<Figure size 432x288 with 1 Axes>"
            ]
          },
          "metadata": {
            "tags": []
          }
        }
      ]
    }
  ]
}